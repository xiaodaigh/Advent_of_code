{
 "cells": [
  {
   "cell_type": "code",
   "execution_count": 3,
   "metadata": {},
   "outputs": [
    {
     "data": {
      "text/plain": [
       "1000-element Array{Array{Int64,1},1}:\n",
       " [20, 3, 11] \n",
       " [15, 27, 5] \n",
       " [6, 29, 7]  \n",
       " [30, 15, 9] \n",
       " [19, 29, 21]\n",
       " [10, 4, 15] \n",
       " [1, 26, 4]  \n",
       " [1, 5, 18]  \n",
       " [10, 15, 23]\n",
       " [10, 14, 20]\n",
       " [3, 5, 18]  \n",
       " [29, 23, 30]\n",
       " [7, 4, 10]  \n",
       " ⋮           \n",
       " [23, 26, 6] \n",
       " [22, 9, 29] \n",
       " [17, 6, 21] \n",
       " [28, 28, 29]\n",
       " [19, 25, 26]\n",
       " [9, 27, 21] \n",
       " [5, 26, 8]  \n",
       " [11, 19, 1] \n",
       " [10, 1, 18] \n",
       " [29, 4, 8]  \n",
       " [21, 2, 22] \n",
       " [14, 12, 8] "
      ]
     },
     "execution_count": 3,
     "metadata": {},
     "output_type": "execute_result"
    }
   ],
   "source": [
    "x=open(\"2.txt\") do f\n",
    "    [l for l in eachline(f)]\n",
    "end\n",
    "x=[parse.(Int, split(x,\"x\")) for x in x]"
   ]
  },
  {
   "cell_type": "code",
   "execution_count": 19,
   "metadata": {},
   "outputs": [
    {
     "data": {
      "text/plain": [
       "area (generic function with 1 method)"
      ]
     },
     "execution_count": 19,
     "metadata": {},
     "output_type": "execute_result"
    }
   ],
   "source": [
    "area(x) = begin\n",
    "    y = [x[1]x[2] , x[1]x[3], x[2]x[3]]\n",
    "    sum((2).*y) + minimum(y)\n",
    "end"
   ]
  },
  {
   "cell_type": "code",
   "execution_count": 20,
   "metadata": {},
   "outputs": [
    {
     "data": {
      "text/plain": [
       "1606483"
      ]
     },
     "execution_count": 20,
     "metadata": {},
     "output_type": "execute_result"
    }
   ],
   "source": [
    "area.(x) |> sum"
   ]
  },
  {
   "cell_type": "code",
   "execution_count": 18,
   "metadata": {},
   "outputs": [
    {
     "data": {
      "text/plain": [
       "70"
      ]
     },
     "execution_count": 18,
     "metadata": {},
     "output_type": "execute_result"
    }
   ],
   "source": [
    "area([2,3,4])"
   ]
  },
  {
   "cell_type": "code",
   "execution_count": 23,
   "metadata": {},
   "outputs": [
    {
     "data": {
      "text/plain": [
       "ribbon (generic function with 1 method)"
      ]
     },
     "execution_count": 23,
     "metadata": {},
     "output_type": "execute_result"
    }
   ],
   "source": [
    "ribbon(x) = begin\n",
    "    #y =  [x[1]x[2] , x[1]x[3], x[2]x[3]]\n",
    "    sum((2).*x) - 2maximum(x) + reduce(*, x)\n",
    "end"
   ]
  },
  {
   "cell_type": "code",
   "execution_count": 24,
   "metadata": {},
   "outputs": [
    {
     "data": {
      "text/plain": [
       "14"
      ]
     },
     "execution_count": 24,
     "metadata": {},
     "output_type": "execute_result"
    }
   ],
   "source": [
    "ribbon([1,1,10])"
   ]
  },
  {
   "cell_type": "code",
   "execution_count": 26,
   "metadata": {},
   "outputs": [
    {
     "data": {
      "text/plain": [
       "3842356"
      ]
     },
     "execution_count": 26,
     "metadata": {},
     "output_type": "execute_result"
    }
   ],
   "source": [
    "ribbon.(x) |> sum"
   ]
  },
  {
   "cell_type": "code",
   "execution_count": null,
   "metadata": {},
   "outputs": [],
   "source": []
  }
 ],
 "metadata": {
  "kernelspec": {
   "display_name": "Julia 1.0.2",
   "language": "julia",
   "name": "julia-1.0"
  },
  "language_info": {
   "file_extension": ".jl",
   "mimetype": "application/julia",
   "name": "julia",
   "version": "1.0.2"
  }
 },
 "nbformat": 4,
 "nbformat_minor": 2
}
