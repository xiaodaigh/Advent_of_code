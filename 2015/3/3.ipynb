{
 "cells": [
  {
   "cell_type": "code",
   "execution_count": 5,
   "metadata": {},
   "outputs": [],
   "source": [
    "x=open(\"3.txt\") do f\n",
    "    [l for l in eachline(f)]\n",
    "end\n",
    "x = split(x[1],\"\");"
   ]
  },
  {
   "cell_type": "code",
   "execution_count": 6,
   "metadata": {},
   "outputs": [
    {
     "data": {
      "text/plain": [
       "Dict{Tuple{Int64,Int64},Bool} with 0 entries"
      ]
     },
     "execution_count": 6,
     "metadata": {},
     "output_type": "execute_result"
    }
   ],
   "source": [
    "house=Dict{Tuple{Int,Int}, Bool}()"
   ]
  },
  {
   "cell_type": "code",
   "execution_count": 7,
   "metadata": {},
   "outputs": [
    {
     "data": {
      "text/plain": [
       "2565"
      ]
     },
     "execution_count": 7,
     "metadata": {},
     "output_type": "execute_result"
    }
   ],
   "source": [
    "location = (0,0)\n",
    "for x in x\n",
    "    if x==\"^\"\n",
    "        location = (location[1]-1, location[2])\n",
    "    elseif x==\"v\"\n",
    "        location = (location[1]+1, location[2])\n",
    "    elseif x==\"<\"\n",
    "        location = (location[1], location[2]-1)\n",
    "    elseif x==\">\"\n",
    "        location = (location[1], location[2]+1)\n",
    "    end\n",
    "    house[location] = true\n",
    "end\n",
    "length(house)"
   ]
  },
  {
   "cell_type": "code",
   "execution_count": 10,
   "metadata": {},
   "outputs": [
    {
     "data": {
      "text/plain": [
       "2639"
      ]
     },
     "execution_count": 10,
     "metadata": {},
     "output_type": "execute_result"
    }
   ],
   "source": [
    "location = (0,0)\n",
    "house=Dict{Tuple{Int,Int}, Bool}()\n",
    "house[location] = true\n",
    "for x in x[1:2:end]\n",
    "    if x==\"^\"\n",
    "        location = (location[1]-1, location[2])\n",
    "    elseif x==\"v\"\n",
    "        location = (location[1]+1, location[2])\n",
    "    elseif x==\"<\"\n",
    "        location = (location[1], location[2]-1)\n",
    "    elseif x==\">\"\n",
    "        location = (location[1], location[2]+1)\n",
    "    end\n",
    "    house[location] = true\n",
    "end\n",
    "\n",
    "location=(0,0)\n",
    "for x in x[2:2:end]\n",
    "    if x==\"^\"\n",
    "        location = (location[1]-1, location[2])\n",
    "    elseif x==\"v\"\n",
    "        location = (location[1]+1, location[2])\n",
    "    elseif x==\"<\"\n",
    "        location = (location[1], location[2]-1)\n",
    "    elseif x==\">\"\n",
    "        location = (location[1], location[2]+1)\n",
    "    end\n",
    "    house[location] = true\n",
    "end\n",
    "length(house)"
   ]
  },
  {
   "cell_type": "code",
   "execution_count": null,
   "metadata": {},
   "outputs": [],
   "source": []
  }
 ],
 "metadata": {
  "kernelspec": {
   "display_name": "Julia 1.0.2",
   "language": "julia",
   "name": "julia-1.0"
  },
  "language_info": {
   "file_extension": ".jl",
   "mimetype": "application/julia",
   "name": "julia",
   "version": "1.0.2"
  }
 },
 "nbformat": 4,
 "nbformat_minor": 2
}
