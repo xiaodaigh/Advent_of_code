{
 "cells": [
  {
   "cell_type": "code",
   "execution_count": 1,
   "metadata": {},
   "outputs": [
    {
     "data": {
      "text/plain": [
       "\"b uxtnmr utw. jnxlmbhg: hy tf. max hy pbma ltrl, b'f ingd? rhnklxey lxkbhnl. wxtk vtee\""
      ]
     },
     "execution_count": 1,
     "metadata": {},
     "output_type": "execute_result"
    }
   ],
   "source": [
    "i=\"b uxtnmr utw. jnxlmbhg: hy tf. max hy pbma ltrl, b'f ingd? rhnklxey lxkbhnl. wxtk vtee\""
   ]
  },
  {
   "cell_type": "code",
   "execution_count": 10,
   "metadata": {},
   "outputs": [
    {
     "data": {
      "text/plain": [
       "86-element Array{Char,1}:\n",
       " 'a'   \n",
       " '\\x1f'\n",
       " 't'   \n",
       " 'w'   \n",
       " 's'   \n",
       " 'm'   \n",
       " 'l'   \n",
       " 'q'   \n",
       " '\\x1f'\n",
       " 't'   \n",
       " 's'   \n",
       " 'v'   \n",
       " '-'   \n",
       " ⋮     \n",
       " 'k'   \n",
       " '-'   \n",
       " '\\x1f'\n",
       " 'v'   \n",
       " 'w'   \n",
       " 's'   \n",
       " 'j'   \n",
       " '\\x1f'\n",
       " 'u'   \n",
       " 's'   \n",
       " 'd'   \n",
       " 'd'   "
      ]
     },
     "execution_count": 10,
     "metadata": {},
     "output_type": "execute_result"
    }
   ],
   "source": [
    "vcat([x[1]-1 for x in split(i,\"\")])"
   ]
  },
  {
   "cell_type": "code",
   "execution_count": 18,
   "metadata": {},
   "outputs": [
    {
     "data": {
      "text/plain": [
       "52-element Array{Char,1}:\n",
       " 'A'\n",
       " 'B'\n",
       " 'C'\n",
       " 'D'\n",
       " 'E'\n",
       " 'F'\n",
       " 'G'\n",
       " 'H'\n",
       " 'I'\n",
       " 'J'\n",
       " 'K'\n",
       " 'L'\n",
       " 'M'\n",
       " ⋮  \n",
       " 'o'\n",
       " 'p'\n",
       " 'q'\n",
       " 'r'\n",
       " 's'\n",
       " 't'\n",
       " 'u'\n",
       " 'v'\n",
       " 'w'\n",
       " 'x'\n",
       " 'y'\n",
       " 'z'"
      ]
     },
     "execution_count": 18,
     "metadata": {},
     "output_type": "execute_result"
    }
   ],
   "source": [
    "vcat('A' .+ (0:25), 'a' .+ (0:25))"
   ]
  },
  {
   "cell_type": "code",
   "execution_count": null,
   "metadata": {},
   "outputs": [],
   "source": []
  }
 ],
 "metadata": {
  "kernelspec": {
   "display_name": "Julia 1.0.2",
   "language": "julia",
   "name": "julia-1.0"
  },
  "language_info": {
   "file_extension": ".jl",
   "mimetype": "application/julia",
   "name": "julia",
   "version": "1.0.2"
  }
 },
 "nbformat": 4,
 "nbformat_minor": 2
}
