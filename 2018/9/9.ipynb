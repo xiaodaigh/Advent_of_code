{
 "cells": [
  {
   "cell_type": "code",
   "execution_count": 1,
   "metadata": {},
   "outputs": [
    {
     "data": {
      "text/plain": [
       "7201900"
      ]
     },
     "execution_count": 1,
     "metadata": {},
     "output_type": "execute_result"
    }
   ],
   "source": [
    "nplayers = 458\n",
    "nmarbles = 72019*100"
   ]
  },
  {
   "cell_type": "code",
   "execution_count": 3,
   "metadata": {},
   "outputs": [
    {
     "data": {
      "text/plain": [
       "day9 (generic function with 1 method)"
      ]
     },
     "execution_count": 3,
     "metadata": {},
     "output_type": "execute_result"
    }
   ],
   "source": [
    "function day9(nplayers, nmarbles)\n",
    "    x=[0,1]\n",
    "    pos = 2\n",
    "    upto = 2\n",
    "    score = 0\n",
    "    scoreboard = Dict{Int, Int}([x=>0 for x in 1:nplayers])\n",
    "    \n",
    "    player = 2\n",
    "    for i in 2:nmarbles    \n",
    "        if mod(upto, 23) == 0\n",
    "            scoreboard[player] += upto\n",
    "            pos = pos - 2 - 7\n",
    "            if pos == 0\n",
    "                pos = length(x)\n",
    "            else\n",
    "                pos = mod(pos, length(x))\n",
    "            end\n",
    "            # remvoe this marble\n",
    "            scoreboard[player] += x[pos]\n",
    "            x = vcat(x[1:pos-1], x[pos+1:end])\n",
    "            upto += 1\n",
    "            pos += 2\n",
    "        else\n",
    "            if pos > length(x) + 1\n",
    "                pos = mod(pos, length(x))\n",
    "            end\n",
    "            x = vcat(x[1:pos-1], upto, x[pos:end])\n",
    "            upto += 1\n",
    "            pos = pos + 2    \n",
    "        end\n",
    "        player += 1\n",
    "        if player == nplayers+1\n",
    "          player = 1\n",
    "        end\n",
    "    end\n",
    "    maximum([v for v in values(scoreboard)])\n",
    "end"
   ]
  },
  {
   "cell_type": "code",
   "execution_count": 4,
   "metadata": {},
   "outputs": [],
   "source": [
    "day9(10, 1618)"
   ]
  },
  {
   "cell_type": "code",
   "execution_count": null,
   "metadata": {},
   "outputs": [],
   "source": [
    "@time day9(458, 72019*100)"
   ]
  },
  {
   "cell_type": "code",
   "execution_count": 149,
   "metadata": {},
   "outputs": [
    {
     "data": {
      "text/plain": [
       "24"
      ]
     },
     "execution_count": 149,
     "metadata": {},
     "output_type": "execute_result"
    }
   ],
   "source": [
    "upto"
   ]
  },
  {
   "cell_type": "code",
   "execution_count": 153,
   "metadata": {},
   "outputs": [
    {
     "data": {
      "text/plain": [
       "(22, 7, 7)"
      ]
     },
     "execution_count": 153,
     "metadata": {},
     "output_type": "execute_result"
    }
   ],
   "source": [
    "length(x),pos, mod(pos, length(x))"
   ]
  },
  {
   "cell_type": "code",
   "execution_count": 180,
   "metadata": {},
   "outputs": [
    {
     "data": {
      "text/plain": [
       "24-element Array{Int64,1}:\n",
       "  0\n",
       " 16\n",
       "  8\n",
       " 17\n",
       "  4\n",
       " 18\n",
       " 19\n",
       "  2\n",
       " 24\n",
       " 20\n",
       " 25\n",
       " 10\n",
       " 21\n",
       "  5\n",
       " 22\n",
       " 11\n",
       "  1\n",
       " 12\n",
       "  6\n",
       " 13\n",
       "  3\n",
       " 14\n",
       "  7\n",
       " 15"
      ]
     },
     "execution_count": 180,
     "metadata": {},
     "output_type": "execute_result"
    }
   ],
   "source": [
    "x"
   ]
  }
 ],
 "metadata": {
  "kernelspec": {
   "display_name": "Julia 1.0.2",
   "language": "julia",
   "name": "julia-1.0"
  },
  "language_info": {
   "file_extension": ".jl",
   "mimetype": "application/julia",
   "name": "julia",
   "version": "1.0.2"
  }
 },
 "nbformat": 4,
 "nbformat_minor": 2
}
