{
 "cells": [
  {
   "cell_type": "code",
   "execution_count": 10,
   "metadata": {},
   "outputs": [
    {
     "data": {
      "text/plain": [
       "477"
      ]
     },
     "execution_count": 10,
     "metadata": {},
     "output_type": "execute_result"
    }
   ],
   "source": [
    "# part 1\n",
    "res = open(\"1.txt\") do f    \n",
    "    res = 0\n",
    "    for l in eachline(f)\n",
    "        res += parse(Int, l)\n",
    "    end\n",
    "    res\n",
    "end"
   ]
  },
  {
   "cell_type": "code",
   "execution_count": 8,
   "metadata": {},
   "outputs": [],
   "source": [
    "res"
   ]
  },
  {
   "cell_type": "code",
   "execution_count": 2,
   "metadata": {},
   "outputs": [
    {
     "data": {
      "text/plain": [
       "1008-element Array{Int64,1}:\n",
       "     15\n",
       "     -7\n",
       "     16\n",
       "      5\n",
       "     12\n",
       "     16\n",
       "     -4\n",
       "     10\n",
       "     -1\n",
       "     14\n",
       "    -16\n",
       "      6\n",
       "      4\n",
       "      ⋮\n",
       "     -5\n",
       "     18\n",
       "     21\n",
       "     -6\n",
       "      9\n",
       "    -19\n",
       "     -6\n",
       "     17\n",
       "     -2\n",
       "     -5\n",
       "     24\n",
       " 130793"
      ]
     },
     "execution_count": 2,
     "metadata": {},
     "output_type": "execute_result"
    }
   ],
   "source": [
    "# part 2\n",
    "# part 2\n",
    "x = open(\"1.txt\") do f\n",
    "    [parse(Int, l) for l in eachline(f)]\n",
    "end "
   ]
  },
  {
   "cell_type": "code",
   "execution_count": 6,
   "metadata": {},
   "outputs": [
    {
     "data": {
      "text/plain": [
       "part2 (generic function with 2 methods)"
      ]
     },
     "execution_count": 6,
     "metadata": {},
     "output_type": "execute_result"
    }
   ],
   "source": [
    "part2(x) = begin\n",
    "    res = 0\n",
    "    d = Dict{Int, Bool}() \n",
    "    while true\n",
    "        print(\"ok\")\n",
    "        for x in x\n",
    "            res += x\n",
    "            if haskey(d,res)\n",
    "                return res\n",
    "            else\n",
    "                d[res] = true\n",
    "            end\n",
    "        end\n",
    "    end\n",
    "end"
   ]
  },
  {
   "cell_type": "code",
   "execution_count": 7,
   "metadata": {},
   "outputs": [
    {
     "name": "stdout",
     "output_type": "stream",
     "text": [
      "okokokokokokokokokokokokokokokokokokokokokokokokokokokokokokokokokokokokokokokokokokokokokokokokokokokokokokokokokokokokokokokokokokokokokokokokokokokokokokokokokokokokokokokokokokokokokokokokokokokokokokokokokokokokokokokokokokokokokokokokokokokokokokokokokokokokokokokokokok"
     ]
    },
    {
     "data": {
      "text/plain": [
       "390"
      ]
     },
     "execution_count": 7,
     "metadata": {},
     "output_type": "execute_result"
    }
   ],
   "source": [
    "part2(x)"
   ]
  },
  {
   "cell_type": "code",
   "execution_count": 9,
   "metadata": {},
   "outputs": [],
   "source": [
    "i = \"428122498997587283996116951397957933569136949848379417125362532269869461185743113733992331379856446362482129646556286611543756564275715359874924898113424472782974789464348626278532936228881786273586278886575828239366794429223317476722337424399239986153675275924113322561873814364451339186918813451685263192891627186769818128715595715444565444581514677521874935942913547121751851631373316122491471564697731298951989511917272684335463436218283261962158671266625299188764589814518793576375629163896349665312991285776595142146261792244475721782941364787968924537841698538288459355159783985638187254653851864874544584878999193242641611859756728634623853475638478923744471563845635468173824196684361934269459459124269196811512927442662761563824323621758785866391424778683599179447845595931928589255935953295111937431266815352781399967295389339626178664148415561175386725992469782888757942558362117938629369129439717427474416851628121191639355646394276451847131182652486561415942815818785884559193483878139351841633366398788657844396925423217662517356486193821341454889283266691224778723833397914224396722559593959125317175899594685524852419495793389481831354787287452367145661829287518771631939314683137722493531318181315216342994141683484111969476952946378314883421677952397588613562958741328987734565492378977396431481215983656814486518865642645612413945129485464979535991675776338786758997128124651311153182816188924935186361813797251997643992686294724699281969473142721116432968216434977684138184481963845141486793996476793954226225885432422654394439882842163295458549755137247614338991879966665925466545111899714943716571113326479432925939227996799951279485722836754457737668191845914566732285928453781818792236447816127492445993945894435692799839217467253986218213131249786833333936332257795191937942688668182629489191693154184177398186462481316834678733713614889439352976144726162214648922159719979143735815478633912633185334529484779322818611438194522292278787653763328944421516569181178517915745625295158611636365253948455727653672922299582352766484\";"
   ]
  },
  {
   "cell_type": "code",
   "execution_count": 13,
   "metadata": {},
   "outputs": [
    {
     "data": {
      "text/plain": [
       "2052-element Array{Int64,1}:\n",
       " 4\n",
       " 2\n",
       " 8\n",
       " 1\n",
       " 2\n",
       " 2\n",
       " 4\n",
       " 9\n",
       " 8\n",
       " 9\n",
       " 9\n",
       " 7\n",
       " 5\n",
       " ⋮\n",
       " 5\n",
       " 8\n",
       " 2\n",
       " 3\n",
       " 5\n",
       " 2\n",
       " 7\n",
       " 6\n",
       " 6\n",
       " 4\n",
       " 8\n",
       " 4"
      ]
     },
     "execution_count": 13,
     "metadata": {},
     "output_type": "execute_result"
    }
   ],
   "source": [
    "x=parse.(Int,split(i,\"\"))"
   ]
  },
  {
   "cell_type": "code",
   "execution_count": 24,
   "metadata": {},
   "outputs": [
    {
     "data": {
      "text/plain": [
       "2052-element Array{Int64,1}:\n",
       " 1027\n",
       " 1028\n",
       " 1029\n",
       " 1030\n",
       " 1031\n",
       " 1032\n",
       " 1033\n",
       " 1034\n",
       " 1035\n",
       " 1036\n",
       " 1037\n",
       " 1038\n",
       " 1039\n",
       "    ⋮\n",
       " 1015\n",
       " 1016\n",
       " 1017\n",
       " 1018\n",
       " 1019\n",
       " 1020\n",
       " 1021\n",
       " 1022\n",
       " 1023\n",
       " 1024\n",
       " 1025\n",
       " 1026"
      ]
     },
     "execution_count": 24,
     "metadata": {},
     "output_type": "execute_result"
    }
   ],
   "source": [
    "y = mod.(Int.(collect((1:length(x)) .+ length(x)/2)), length(x))"
   ]
  },
  {
   "cell_type": "code",
   "execution_count": 34,
   "metadata": {},
   "outputs": [
    {
     "data": {
      "text/plain": [
       "1-element view(::Array{Int64,1}, [1026]) with eltype Int64:\n",
       " 2052"
      ]
     },
     "execution_count": 34,
     "metadata": {},
     "output_type": "execute_result"
    }
   ],
   "source": [
    "y[findall(y .== 0)] .= length(x)"
   ]
  },
  {
   "cell_type": "code",
   "execution_count": 38,
   "metadata": {},
   "outputs": [
    {
     "data": {
      "text/plain": [
       "1356"
      ]
     },
     "execution_count": 38,
     "metadata": {},
     "output_type": "execute_result"
    }
   ],
   "source": [
    "sum(x[x .== x[y]])"
   ]
  },
  {
   "cell_type": "code",
   "execution_count": null,
   "metadata": {},
   "outputs": [],
   "source": []
  }
 ],
 "metadata": {
  "kernelspec": {
   "display_name": "Julia 1.0.2",
   "language": "julia",
   "name": "julia-1.0"
  },
  "language_info": {
   "file_extension": ".jl",
   "mimetype": "application/julia",
   "name": "julia",
   "version": "1.0.2"
  }
 },
 "nbformat": 4,
 "nbformat_minor": 2
}
