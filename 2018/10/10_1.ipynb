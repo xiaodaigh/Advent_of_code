{
 "cells": [
  {
   "cell_type": "code",
   "execution_count": 91,
   "metadata": {},
   "outputs": [
    {
     "data": {
      "text/plain": [
       "356-element Array{String,1}:\n",
       " \"position=<-39892,  -9859> velocity=< 4,  1>\"\n",
       " \"position=< 10130,  10163> velocity=<-1, -1>\"\n",
       " \"position=<-49939,  50212> velocity=< 5, -5>\"\n",
       " \"position=<-29877, -29885> velocity=< 3,  3>\"\n",
       " \"position=< -9900, -39894> velocity=< 1,  4>\"\n",
       " \"position=<-19858,  40201> velocity=< 2, -4>\"\n",
       " \"position=< -9892, -19865> velocity=< 1,  2>\"\n",
       " \"position=<-29863,  10163> velocity=< 3, -1>\"\n",
       " \"position=<-29914, -49902> velocity=< 3,  5>\"\n",
       " \"position=<-19854, -29876> velocity=< 2,  3>\"\n",
       " \"position=<-49944, -39892> velocity=< 5,  4>\"\n",
       " \"position=<-49912, -39890> velocity=< 5,  4>\"\n",
       " \"position=<-39923,  50207> velocity=< 4, -5>\"\n",
       " ⋮                                            \n",
       " \"position=< 20189, -29878> velocity=<-2,  3>\"\n",
       " \"position=<-39922,  20170> velocity=< 4, -2>\"\n",
       " \"position=< -9856, -19870> velocity=< 1,  2>\"\n",
       " \"position=<-49883,  30181> velocity=< 5, -3>\"\n",
       " \"position=<-29877,  10163> velocity=< 3, -1>\"\n",
       " \"position=< 30192,  20171> velocity=<-3, -2>\"\n",
       " \"position=< 20191, -29876> velocity=<-2,  3>\"\n",
       " \"position=< 40192,  50206> velocity=<-4, -5>\"\n",
       " \"position=<-49891, -29876> velocity=< 5,  3>\"\n",
       " \"position=< 50174,  -9857> velocity=<-5,  1>\"\n",
       " \"position=<-49904,  -9862> velocity=< 5,  1>\"\n",
       " \"position=< -9860,  -9862> velocity=< 1,  1>\""
      ]
     },
     "execution_count": 91,
     "metadata": {},
     "output_type": "execute_result"
    }
   ],
   "source": [
    "x = open(\"i.txt\") do f\n",
    "    [l for l in eachline(f)]\n",
    "end"
   ]
  },
  {
   "cell_type": "code",
   "execution_count": 99,
   "metadata": {},
   "outputs": [
    {
     "data": {
      "text/plain": [
       "prox (generic function with 1 method)"
      ]
     },
     "execution_count": 99,
     "metadata": {},
     "output_type": "execute_result"
    }
   ],
   "source": [
    "x1 = x[1]\n",
    "prox(x1) = begin\n",
    "    a,b = split(x1, \"velocity=<\")\n",
    "\n",
    "    velo = parse.(Int,split(split(b,\">\")[1],\",\"))\n",
    "    pa,pb = split(split(a,\"position=<\")[2],\",\")\n",
    "\n",
    "    pa1 = parse(Int, pa)\n",
    "    pb1 = parse(Int, split(pb,\">\")[1])\n",
    "\n",
    "    (pa1,pb1), velo\n",
    "end"
   ]
  },
  {
   "cell_type": "code",
   "execution_count": 100,
   "metadata": {},
   "outputs": [
    {
     "data": {
      "text/plain": [
       "356-element Array{Tuple{Tuple{Int64,Int64},Array{Int64,1}},1}:\n",
       " ((-39892, -9859), [4, 1]) \n",
       " ((10130, 10163), [-1, -1])\n",
       " ((-49939, 50212), [5, -5])\n",
       " ((-29877, -29885), [3, 3])\n",
       " ((-9900, -39894), [1, 4]) \n",
       " ((-19858, 40201), [2, -4])\n",
       " ((-9892, -19865), [1, 2]) \n",
       " ((-29863, 10163), [3, -1])\n",
       " ((-29914, -49902), [3, 5])\n",
       " ((-19854, -29876), [2, 3])\n",
       " ((-49944, -39892), [5, 4])\n",
       " ((-49912, -39890), [5, 4])\n",
       " ((-39923, 50207), [4, -5])\n",
       " ⋮                         \n",
       " ((20189, -29878), [-2, 3])\n",
       " ((-39922, 20170), [4, -2])\n",
       " ((-9856, -19870), [1, 2]) \n",
       " ((-49883, 30181), [5, -3])\n",
       " ((-29877, 10163), [3, -1])\n",
       " ((30192, 20171), [-3, -2])\n",
       " ((20191, -29876), [-2, 3])\n",
       " ((40192, 50206), [-4, -5])\n",
       " ((-49891, -29876), [5, 3])\n",
       " ((50174, -9857), [-5, 1]) \n",
       " ((-49904, -9862), [5, 1]) \n",
       " ((-9860, -9862), [1, 1])  "
      ]
     },
     "execution_count": 100,
     "metadata": {},
     "output_type": "execute_result"
    }
   ],
   "source": [
    "px = prox.(x)"
   ]
  },
  {
   "cell_type": "code",
   "execution_count": 101,
   "metadata": {},
   "outputs": [
    {
     "data": {
      "text/plain": [
       "356-element Array{Array{Int64,1},1}:\n",
       " [4, 1]  \n",
       " [-1, -1]\n",
       " [5, -5] \n",
       " [3, 3]  \n",
       " [1, 4]  \n",
       " [2, -4] \n",
       " [1, 2]  \n",
       " [3, -1] \n",
       " [3, 5]  \n",
       " [2, 3]  \n",
       " [5, 4]  \n",
       " [5, 4]  \n",
       " [4, -5] \n",
       " ⋮       \n",
       " [-2, 3] \n",
       " [4, -2] \n",
       " [1, 2]  \n",
       " [5, -3] \n",
       " [3, -1] \n",
       " [-3, -2]\n",
       " [-2, 3] \n",
       " [-4, -5]\n",
       " [5, 3]  \n",
       " [-5, 1] \n",
       " [5, 1]  \n",
       " [1, 1]  "
      ]
     },
     "execution_count": 101,
     "metadata": {},
     "output_type": "execute_result"
    }
   ],
   "source": [
    "posx = [x[1] for x in px]\n",
    "velo = [x[2] for x in px]"
   ]
  },
  {
   "cell_type": "code",
   "execution_count": 122,
   "metadata": {},
   "outputs": [
    {
     "data": {
      "text/plain": [
       "plotb (generic function with 2 methods)"
      ]
     },
     "execution_count": 122,
     "metadata": {},
     "output_type": "execute_result"
    }
   ],
   "source": [
    "plotb(posx, velo, n) = begin\n",
    "    new_posx = [(c[1]+n*d[1], c[2] + n*d[2]) for (c,d) in zip(posx, velo)]\n",
    "    \n",
    "    minval = minimum([min(x,y) for (x,y) in new_posx])\n",
    "    \n",
    "    \n",
    "    new_posx = [(x-minval, y -minval) for (x,y) in new_posx]\n",
    "  \n",
    "    dim = maximum([max(posx[1], posx[2]) for posx in new_posx]) + 1\n",
    "    board = Array{Int, 2}(undef, dim, dim)\n",
    "    board .= 0\n",
    "    return board\n",
    "  \n",
    "    for (x,y) in new_posx\n",
    "        board[x+1,y+1] = 1\n",
    "    end\n",
    "    board\n",
    "    \n",
    "    b = transpose(board)\n",
    "    [x == 1 ? \"#\" : \"\" for x in b]\n",
    "end"
   ]
  },
  {
   "cell_type": "code",
   "execution_count": 124,
   "metadata": {},
   "outputs": [
    {
     "data": {
      "text/plain": [
       "0"
      ]
     },
     "execution_count": 124,
     "metadata": {},
     "output_type": "execute_result"
    }
   ],
   "source": [
    "i=0"
   ]
  },
  {
   "cell_type": "code",
   "execution_count": 125,
   "metadata": {},
   "outputs": [
    {
     "ename": "OutOfMemoryError",
     "evalue": "OutOfMemoryError()",
     "output_type": "error",
     "traceback": [
      "OutOfMemoryError()",
      "",
      "Stacktrace:",
      " [1] Type at .\\boot.jl:396 [inlined]",
      " [2] plotb(::Array{Tuple{Int64,Int64},1}, ::Array{Array{Int64,1},1}, ::Int64) at .\\In[122]:10",
      " [3] top-level scope at In[125]:2"
     ]
    }
   ],
   "source": [
    "i+=1\n",
    "plotb(posx, velo, i)"
   ]
  },
  {
   "cell_type": "code",
   "execution_count": 117,
   "metadata": {},
   "outputs": [
    {
     "data": {
      "text/plain": [
       "356-element Array{Array{Int64,1},1}:\n",
       " [4, 1]  \n",
       " [-1, -1]\n",
       " [5, -5] \n",
       " [3, 3]  \n",
       " [1, 4]  \n",
       " [2, -4] \n",
       " [1, 2]  \n",
       " [3, -1] \n",
       " [3, 5]  \n",
       " [2, 3]  \n",
       " [5, 4]  \n",
       " [5, 4]  \n",
       " [4, -5] \n",
       " ⋮       \n",
       " [-2, 3] \n",
       " [4, -2] \n",
       " [1, 2]  \n",
       " [5, -3] \n",
       " [3, -1] \n",
       " [-3, -2]\n",
       " [-2, 3] \n",
       " [-4, -5]\n",
       " [5, 3]  \n",
       " [-5, 1] \n",
       " [5, 1]  \n",
       " [1, 1]  "
      ]
     },
     "execution_count": 117,
     "metadata": {},
     "output_type": "execute_result"
    }
   ],
   "source": [
    "velo"
   ]
  },
  {
   "cell_type": "code",
   "execution_count": null,
   "metadata": {},
   "outputs": [],
   "source": []
  }
 ],
 "metadata": {
  "kernelspec": {
   "display_name": "Julia 1.0.2",
   "language": "julia",
   "name": "julia-1.0"
  },
  "language_info": {
   "file_extension": ".jl",
   "mimetype": "application/julia",
   "name": "julia",
   "version": "1.0.2"
  }
 },
 "nbformat": 4,
 "nbformat_minor": 2
}
