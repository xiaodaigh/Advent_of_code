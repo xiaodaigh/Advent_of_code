{
 "cells": [
  {
   "cell_type": "code",
   "execution_count": 1,
   "metadata": {},
   "outputs": [
    {
     "data": {
      "text/plain": [
       "find_nearest_paths (generic function with 1 method)"
      ]
     },
     "execution_count": 1,
     "metadata": {},
     "output_type": "execute_result"
    }
   ],
   "source": [
    "using StatsBase\n",
    "using DelimitedFiles\n",
    "import Base.string\n",
    "\n",
    "mutable struct ge\n",
    "    hp::Int16\n",
    "    elf::Bool\n",
    "end    \n",
    "\n",
    "mutable struct tile\n",
    "    empty::Bool\n",
    "    char::Union{ge, Nothing}\n",
    "end\n",
    "\n",
    "ischar(t::tile) = t.char != nothing\n",
    "istile(t::tile) = t.empty\n",
    "isunoccupied(t::tile) = t.empty && !iself(t) && !isg(t)\n",
    "\n",
    "iself(t::tile) = ischar(t) && t.char.elf\n",
    "isg(t::tile) = ischar(t) && !t.char.elf\n",
    "\n",
    "attack(t::tile) = begin\n",
    "    t.char.hp -= 3\n",
    "    #println(\"attack: hp left $(t.char.hp)\")\n",
    "    if t.char.hp <= 0\n",
    "        return tile(true, nothing)\n",
    "    else\n",
    "        return t\n",
    "    end\n",
    "end\n",
    "\n",
    "string(t::tile) = ischar(t) ? (iself(t) ? \"E\" : \"G\") : (isunoccupied(t) ? \".\" : \"#\")\n",
    "\n",
    "function find_nearest_paths(pos_of_char, map, hw)    \n",
    "    # initialise the variables\n",
    "    found_nearest_opponent = false\n",
    "    \n",
    "    # vector of paths\n",
    "    old_paths = Vector{CartesianIndex{2}}[]\n",
    "    new_paths = Vector{CartesianIndex{2}}[]\n",
    "\n",
    "    push!(old_paths, [pos_of_char])\n",
    "    \n",
    "    # the path map which contains shortest distance to various points\n",
    "    path_map = Array{Int, 2}(undef, hw, hw)\n",
    "    path_map .= hw*hw\n",
    "\n",
    "    # dist keeps track of the distance from starting point\n",
    "    dist = 0\n",
    "    for op in old_paths\n",
    "        path_map[op[end]] = dist\n",
    "    end \n",
    "    \n",
    "    # am I looking for an Elf or a Goblin?\n",
    "    find_elf = isg(map[pos_of_char]) ? true : false\n",
    "\n",
    "    # which element of old_paths am I up to?\n",
    "    paths_upto = 1\n",
    "    \n",
    "    \n",
    "    loop = 0\n",
    "    # scan through the old_paths    \n",
    "    #while (loop <= 2) && true\n",
    "    while true\n",
    "#         if mod(loop, 20000) == 0\n",
    "#             writedlm(\"ok_$(loop).csv\", path_map, ',')\n",
    "#         end\n",
    "        loop += 1\n",
    "        if paths_upto > length(old_paths)\n",
    "            if found_nearest_opponent\n",
    "                #writedlm(\"ok_done_$(loop).csv\", path_map, ',')\n",
    "                return (new_paths, path_map, found_nearest_opponent)\n",
    "            elseif length(new_paths) == 0\n",
    "                #writedlm(\"ok_exhausted_$(loop).csv\", path_map, ',')\n",
    "                return (old_paths, path_map, found_nearest_opponent)\n",
    "            end\n",
    "            old_paths = new_paths\n",
    "            new_paths = Vector{CartesianIndex{2}}[]\n",
    "            paths_upto = 1\n",
    "\n",
    "            dist += 1\n",
    "        end\n",
    "        \n",
    "        # the starting position\n",
    "        #println(old_paths[paths_upto])\n",
    "        # obtain the last position in the path\n",
    "        pos = old_paths[paths_upto][end]\n",
    "        \n",
    "        # the reachable position from pos\n",
    "        #np = next_pos(pos, map, !iself(map[pos]))\n",
    "        \n",
    "        # the list of new positions to consider - 4 directions in total\n",
    "        new_pos = CartesianIndex.([(pos[1], pos[2]-1), \n",
    "                    (pos[1]-1, pos[2]), \n",
    "                    (pos[1]+1, pos[2]),\n",
    "                    (pos[1], pos[2]+1)])\n",
    "        \n",
    "        # if any of the new_pos contains the enemy you are looking for then can disregard the other paths        \n",
    "        if find_elf\n",
    "            # if any of the elements is an elf then we've found it!\n",
    "            iself_vec = [iself(map[new_pos]) for new_pos in new_pos]            \n",
    "            \n",
    "            if any(iself_vec)\n",
    "                # if I find a path then get rid of all paths that didn't lead to an Elf\n",
    "                new_paths = filter(x->iself(map[x[end]]), new_paths)\n",
    "                    \n",
    "                    \n",
    "                found_nearest_opponent = true\n",
    "                # keep only those that have elf\n",
    "                new_pos = new_pos[iself_vec]\n",
    "                \n",
    "                #println(\"woohoo found elf\")\n",
    "                #writedlm(\"ok_found_elf_$(loop).csv\", path_map, ',')\n",
    "            end\n",
    "        else \n",
    "            # if any of the elements is an Goblin then we've found it!\n",
    "            isg_vec = [isg(map[new_pos]) for new_pos in new_pos]\n",
    "            \n",
    "            if any(isg_vec) \n",
    "                new_paths = filter(x->isg(map[x[end]]), new_paths)                        \n",
    "                found_nearest_opponent = true\n",
    "                # keep only those that have elf\n",
    "                new_pos = new_pos[isg_vec]\n",
    "                #println(\"woohoo found Goblin\")\n",
    "                #writedlm(\"ok_found_goblin_$(loop).csv\", path_map, ',')                \n",
    "            end\n",
    "        end\n",
    "        \n",
    "        # if not found the nearest enemy then remove the walls and blocked\n",
    "        # filter out those that has already been assessed\n",
    "        # the above can be achieved by keep only those where dist is > dist + 1 and ise\n",
    "        if found_nearest_opponent\n",
    "            # if found the nearest opponent then we should not find any other paths\n",
    "            # we should only keep those paths that lead to another opponent\n",
    "            if find_elf\n",
    "                # if any of the elements is an elf then we've found it!\n",
    "                iself_vec = [iself(map[new_pos]) for new_pos in new_pos]\n",
    "                new_pos = new_pos[iself_vec]\n",
    "            else\n",
    "                # if any of the elements is an Goblin then we've found it!\n",
    "                isg_vec = [isg(map[new_pos]) for new_pos in new_pos]\n",
    "                new_pos = new_pos[isg_vec]\n",
    "            end\n",
    "        else            \n",
    "            new_pos = filter(x->(path_map[x] >= dist + 1) && isunoccupied(map[x]), new_pos)            \n",
    "        end\n",
    "        \n",
    "        # set the distance\n",
    "        for np in new_pos            \n",
    "            path_map[np] = dist + 1                        \n",
    "        end\n",
    "        \n",
    "        # create the new paths to add\n",
    "        new_paths_to_add = [vcat(old_paths[paths_upto], new_pos) for new_pos in new_pos]\n",
    "        \n",
    "        # update new_paths with the newly added paths\n",
    "        for new_paths_to_add in new_paths_to_add\n",
    "            push!(new_paths, new_paths_to_add)\n",
    "        end\n",
    "                \n",
    "        #return (old_paths, path_map, found_nearest_opponent)\n",
    "                \n",
    "        paths_upto += 1\n",
    "    end\n",
    "\n",
    "    #writedlm(\"ok_$(loop).csv\", path_map, ',')\n",
    "    return (old_paths, path_map, found_nearest_opponent)\n",
    "end"
   ]
  },
  {
   "cell_type": "code",
   "execution_count": 12,
   "metadata": {},
   "outputs": [
    {
     "data": {
      "text/plain": [
       "7×7 Array{String,2}:\n",
       " \"#\"  \"#\"  \"#\"  \"#\"  \"#\"  \"#\"  \"#\"\n",
       " \"#\"  \"E\"  \".\"  \".\"  \"E\"  \"G\"  \"#\"\n",
       " \"#\"  \".\"  \"#\"  \"G\"  \".\"  \"E\"  \"#\"\n",
       " \"#\"  \"E\"  \".\"  \"#\"  \"#\"  \"E\"  \"#\"\n",
       " \"#\"  \"G\"  \".\"  \".\"  \"#\"  \".\"  \"#\"\n",
       " \"#\"  \".\"  \".\"  \"E\"  \"#\"  \".\"  \"#\"\n",
       " \"#\"  \"#\"  \"#\"  \"#\"  \"#\"  \"#\"  \"#\""
      ]
     },
     "execution_count": 12,
     "metadata": {},
     "output_type": "execute_result"
    }
   ],
   "source": [
    "# set up data\n",
    "hw = 7\n",
    "\n",
    "x = Array{String,2}(undef, hw, hw)\n",
    "#open(\"15.txt\") do f\n",
    "#open(\"example1.txt\") do f\n",
    "open(\"summ2.txt\") do f\n",
    "    for (i,l) in enumerate(eachline(f))\n",
    "        x[i,:] .= split(l,\"\")\n",
    "    end\n",
    "end\n",
    "x;\n",
    "\n",
    "map = Array{tile, 2}(undef, hw, hw)\n",
    "for j=1:hw, i=1:hw\n",
    "    if x[i,j] == \".\"\n",
    "        map[i,j] = tile(true, nothing)\n",
    "    elseif x[i,j] == \"#\"\n",
    "        map[i,j] = tile(false, nothing)\n",
    "    elseif x[i,j] == \"G\"\n",
    "        map[i,j] = tile(true, ge(200, false))\n",
    "    elseif x[i,j] == \"E\"\n",
    "        map[i,j] = tile(true, ge(200, true))\n",
    "    end\n",
    "end\n",
    "string.(map)"
   ]
  },
  {
   "cell_type": "code",
   "execution_count": 13,
   "metadata": {},
   "outputs": [
    {
     "data": {
      "text/plain": [
       "0"
      ]
     },
     "execution_count": 13,
     "metadata": {},
     "output_type": "execute_result"
    }
   ],
   "source": [
    "# a routine to find shortest path using breadth first search\n",
    "pos_all = sort(findall(ischar.(map)), by=x->(x[1], x[2]));\n",
    "char_up_to = 1\n",
    "pos_of_char = pos_all[char_up_to]\n",
    "string.(map)\n",
    "# exhausted_or_enemy_path, path_map, found_nearest_opponent = find_nearest_paths(pos_of_char, map, hw)\n",
    "# selected_move = sort(exhausted_or_enemy_path, by=x->(x[end][1]*33^3 +  x[end][2]*33^2 + x[2][1]*33 + x[2][2]))[1][2]        \n",
    "\n",
    "rounds = 0 "
   ]
  },
  {
   "cell_type": "code",
   "execution_count": 14,
   "metadata": {},
   "outputs": [
    {
     "data": {
      "text/plain": [
       "7×7 Array{String,2}:\n",
       " \"#\"  \"#\"  \"#\"  \"#\"  \"#\"  \"#\"  \"#\"\n",
       " \"#\"  \".\"  \"E\"  \".\"  \"E\"  \".\"  \"#\"\n",
       " \"#\"  \".\"  \"#\"  \"E\"  \".\"  \".\"  \"#\"\n",
       " \"#\"  \"E\"  \".\"  \"#\"  \"#\"  \"E\"  \"#\"\n",
       " \"#\"  \".\"  \"E\"  \".\"  \"#\"  \".\"  \"#\"\n",
       " \"#\"  \".\"  \".\"  \".\"  \"#\"  \".\"  \"#\"\n",
       " \"#\"  \"#\"  \"#\"  \"#\"  \"#\"  \"#\"  \"#\""
      ]
     },
     "metadata": {},
     "output_type": "display_data"
    },
    {
     "data": {
      "text/plain": [
       "(46, 864)"
      ]
     },
     "execution_count": 14,
     "metadata": {},
     "output_type": "execute_result"
    }
   ],
   "source": [
    "while any(iself.(map)) && any(isg.(map))\n",
    "    rounds += 1\n",
    "    for pos_of_char in pos_all\n",
    "        # need to check if the character has died\n",
    "        if ischar(map[pos_of_char])\n",
    "\n",
    "            # is is an Elf or Goblin\n",
    "            is_elf = iself(map[pos_of_char])\n",
    "\n",
    "            exhausted_or_enemy_path, path_map, found_nearest_opponent = find_nearest_paths(pos_of_char, map, hw)\n",
    "            # make a move\n",
    "            if found_nearest_opponent\n",
    "                # found an enemy; ready to attack\n",
    "                selected_path = sort(exhausted_or_enemy_path, by=x->(x[end][1]*33^3 +  x[end][2]*33^2 + x[2][1]*33 + x[2][2]))[1]\n",
    "\n",
    "                # length two means that it's adjacent to an enemy\n",
    "                if length(exhausted_or_enemy_path[1]) > 2                \n",
    "                    map[selected_path[2]] = map[pos_of_char]\n",
    "                    map[pos_of_char] = tile(true, nothing)\n",
    "                end\n",
    "\n",
    "\n",
    "                # able to attack\n",
    "                if length(exhausted_or_enemy_path[1]) in (2,3)                \n",
    "                    if length(exhausted_or_enemy_path[1]) == 2\n",
    "                        curr_position = selected_path[1]\n",
    "                    else \n",
    "                        curr_position = selected_path[2]\n",
    "                    end                                    \n",
    "\n",
    "                    # look in 4 directions                \n",
    "                    next_pos = [curr_position] .+ CartesianIndex.([(-1, 0), (1, 0), (0, -1), (0,1)])                \n",
    "\n",
    "                    if is_elf\n",
    "                        is_next_pos_goblin = [isg(map[next_pos]) for next_pos in next_pos]\n",
    "                        next_pos = next_pos[is_next_pos_goblin]\n",
    "                    else\n",
    "                        is_next_pos_elf = [iself(map[next_pos]) for next_pos in next_pos]\n",
    "                        next_pos = next_pos[is_next_pos_elf]\n",
    "                    end\n",
    "\n",
    "                    next_pos1 = sortperm([map[next_pos].char.hp for next_pos in next_pos])[1]\n",
    "                    \n",
    "                    # TODO need to choose one that is earliest in reading open\n",
    "                    \n",
    "                    attack_pos = next_pos[next_pos1]\n",
    "\n",
    "                    map[attack_pos] = attack(map[attack_pos])\n",
    "                end\n",
    "\n",
    "            end\n",
    "            #display(string.(map))\n",
    "        end\n",
    "\n",
    "    end\n",
    "    #display(string.(map))\n",
    "    #println(\"round $rounds\")\n",
    "    pos_all = sort(findall(ischar.(map)), by=x->(x[1], x[2]));\n",
    "end\n",
    "hp = 0\n",
    "for m in map\n",
    "    if ischar(m)\n",
    "        hp += max(0, m.char.hp)\n",
    "    end\n",
    "end\n",
    "display(string.(map))       \n",
    "rounds, hp"
   ]
  },
  {
   "cell_type": "code",
   "execution_count": 388,
   "metadata": {},
   "outputs": [
    {
     "name": "stdout",
     "output_type": "stream",
     "text": [
      "590\n"
     ]
    }
   ],
   "source": [
    "# sum of hp\n",
    "# if none left\n",
    "if !any(iself.(map)) || !any(isg.(map))\n",
    "    hp = 0\n",
    "    for m in map\n",
    "        if ischar(m)\n",
    "            hp += max(0, m.char.hp)\n",
    "        end\n",
    "    end\n",
    "    println(hp)\n",
    "end"
   ]
  },
  {
   "cell_type": "code",
   "execution_count": 7,
   "metadata": {},
   "outputs": [
    {
     "data": {
      "text/plain": [
       "(Array{CartesianIndex{2},1}[[CartesianIndex(2, 2), CartesianIndex(2, 3)]], [81 81 … 81 81; 81 0 … 81 81; … ; 81 81 … 81 81; 81 81 … 81 81], true)"
      ]
     },
     "execution_count": 7,
     "metadata": {},
     "output_type": "execute_result"
    }
   ],
   "source": [
    "exhausted_or_enemy_path, path_map, found_nearest_opponent = find_nearest_paths(pos_of_char, map, hw)"
   ]
  },
  {
   "cell_type": "code",
   "execution_count": 8,
   "metadata": {},
   "outputs": [
    {
     "data": {
      "text/plain": [
       "(CartesianIndex(2, 3), CartesianIndex(2, 2))"
      ]
     },
     "execution_count": 8,
     "metadata": {},
     "output_type": "execute_result"
    }
   ],
   "source": [
    "# make a move\n",
    "if found_nearest_opponent\n",
    "    selected_move = sort(exhausted_or_enemy_path, by=x->(x[end][1]*33^3 +  x[end][2]*33^2 + x[2][1]*33 + x[2][2]))[1][2]\n",
    "end\n",
    "selected_move, pos_of_char"
   ]
  },
  {
   "cell_type": "code",
   "execution_count": 247,
   "metadata": {},
   "outputs": [],
   "source": [
    "map[selected_move] = map[pos_of_char]\n",
    "map[pos_of_char] = tile(true, nothing)"
   ]
  },
  {
   "cell_type": "code",
   "execution_count": 250,
   "metadata": {},
   "outputs": [
    {
     "data": {
      "text/plain": [
       "2"
      ]
     },
     "execution_count": 250,
     "metadata": {},
     "output_type": "execute_result"
    }
   ],
   "source": [
    "char_up_to += 1"
   ]
  },
  {
   "cell_type": "code",
   "execution_count": 248,
   "metadata": {},
   "outputs": [
    {
     "data": {
      "text/plain": [
       "7×7 Array{String,2}:\n",
       " \"#\"  \"#\"  \"#\"  \"#\"  \"#\"  \"#\"  \"#\"\n",
       " \"#\"  \".\"  \"E\"  \".\"  \"G\"  \".\"  \"#\"\n",
       " \"#\"  \".\"  \".\"  \".\"  \"#\"  \".\"  \"#\"\n",
       " \"#\"  \".\"  \"G\"  \".\"  \"#\"  \"G\"  \"#\"\n",
       " \"#\"  \"#\"  \"#\"  \"#\"  \"#\"  \"#\"  \"#\"\n",
       " \"#\"  \"#\"  \"#\"  \"#\"  \"#\"  \"#\"  \"#\"\n",
       " \"#\"  \"#\"  \"#\"  \"#\"  \"#\"  \"#\"  \"#\""
      ]
     },
     "execution_count": 248,
     "metadata": {},
     "output_type": "execute_result"
    }
   ],
   "source": [
    "string.(map)"
   ]
  },
  {
   "cell_type": "code",
   "execution_count": 233,
   "metadata": {},
   "outputs": [
    {
     "data": {
      "text/plain": [
       "tile(true, nothing)"
      ]
     },
     "execution_count": 233,
     "metadata": {},
     "output_type": "execute_result"
    }
   ],
   "source": []
  },
  {
   "cell_type": "code",
   "execution_count": 198,
   "metadata": {},
   "outputs": [
    {
     "data": {
      "text/plain": [
       "11×13 Array{String,2}:\n",
       " \"#\"  \"#\"  \"#\"  \"#\"  \"#\"  \"#\"  \"#\"  \"#\"  \"#\"  \"#\"  \"#\"  \"#\"  \"#\"\n",
       " \"#\"  \"#\"  \"#\"  \"#\"  \"#\"  \".\"  \".\"  \".\"  \"#\"  \"#\"  \"#\"  \"#\"  \"#\"\n",
       " \"#\"  \"#\"  \"#\"  \"#\"  \".\"  \".\"  \".\"  \"#\"  \"#\"  \"#\"  \"#\"  \"#\"  \"#\"\n",
       " \"#\"  \"#\"  \"#\"  \".\"  \"G\"  \".\"  \"#\"  \"#\"  \"#\"  \"#\"  \"#\"  \"#\"  \"#\"\n",
       " \".\"  \".\"  \".\"  \"G\"  \".\"  \".\"  \"#\"  \"#\"  \"#\"  \"#\"  \"#\"  \"#\"  \"#\"\n",
       " \".\"  \".\"  \".\"  \".\"  \".\"  \"#\"  \"#\"  \"#\"  \"#\"  \".\"  \".\"  \"#\"  \"#\"\n",
       " \"#\"  \".\"  \"G\"  \".\"  \".\"  \".\"  \"#\"  \"#\"  \"#\"  \".\"  \".\"  \"#\"  \"#\"\n",
       " \".\"  \".\"  \".\"  \".\"  \"G\"  \".\"  \"G\"  \".\"  \".\"  \".\"  \".\"  \".\"  \".\"\n",
       " \".\"  \"G\"  \"G\"  \".\"  \".\"  \"G\"  \".\"  \".\"  \"#\"  \"#\"  \"#\"  \".\"  \".\"\n",
       " \".\"  \".\"  \".\"  \".\"  \".\"  \".\"  \".\"  \".\"  \".\"  \".\"  \".\"  \".\"  \"#\"\n",
       " \"G\"  \".\"  \".\"  \".\"  \".\"  \".\"  \".\"  \".\"  \".\"  \".\"  \".\"  \".\"  \"#\""
      ]
     },
     "execution_count": 198,
     "metadata": {},
     "output_type": "execute_result"
    }
   ],
   "source": [
    "string.(map[1:11, 19:31])"
   ]
  },
  {
   "cell_type": "code",
   "execution_count": 166,
   "metadata": {},
   "outputs": [
    {
     "data": {
      "text/plain": [
       "14-element Array{CartesianIndex{2},1}:\n",
       " CartesianIndex(4, 24) \n",
       " CartesianIndex(4, 23) \n",
       " CartesianIndex(5, 23) \n",
       " CartesianIndex(6, 23) \n",
       " CartesianIndex(6, 22) \n",
       " CartesianIndex(7, 22) \n",
       " CartesianIndex(8, 22) \n",
       " CartesianIndex(9, 22) \n",
       " CartesianIndex(10, 22)\n",
       " CartesianIndex(10, 21)\n",
       " CartesianIndex(10, 20)\n",
       " CartesianIndex(11, 20)\n",
       " CartesianIndex(12, 20)\n",
       " CartesianIndex(13, 20)"
      ]
     },
     "execution_count": 166,
     "metadata": {},
     "output_type": "execute_result"
    }
   ],
   "source": [
    "sorted_exhausted_or_enemy_path[1]"
   ]
  },
  {
   "cell_type": "code",
   "execution_count": 157,
   "metadata": {},
   "outputs": [
    {
     "data": {
      "text/plain": [
       "14-element Array{CartesianIndex{2},1}:\n",
       " CartesianIndex(4, 24) \n",
       " CartesianIndex(4, 23) \n",
       " CartesianIndex(5, 23) \n",
       " CartesianIndex(6, 23) \n",
       " CartesianIndex(6, 22) \n",
       " CartesianIndex(7, 22) \n",
       " CartesianIndex(8, 22) \n",
       " CartesianIndex(9, 22) \n",
       " CartesianIndex(10, 22)\n",
       " CartesianIndex(10, 21)\n",
       " CartesianIndex(11, 21)\n",
       " CartesianIndex(12, 21)\n",
       " CartesianIndex(13, 21)\n",
       " CartesianIndex(13, 20)"
      ]
     },
     "execution_count": 157,
     "metadata": {},
     "output_type": "execute_result"
    }
   ],
   "source": [
    "sorted_exhausted_or_enemy_path[2]"
   ]
  },
  {
   "cell_type": "code",
   "execution_count": 149,
   "metadata": {},
   "outputs": [
    {
     "data": {
      "text/plain": [
       "14-element Array{CartesianIndex{2},1}:\n",
       " CartesianIndex(4, 24) \n",
       " CartesianIndex(4, 23) \n",
       " CartesianIndex(5, 23) \n",
       " CartesianIndex(6, 23) \n",
       " CartesianIndex(6, 22) \n",
       " CartesianIndex(7, 22) \n",
       " CartesianIndex(8, 22) \n",
       " CartesianIndex(9, 22) \n",
       " CartesianIndex(10, 22)\n",
       " CartesianIndex(10, 21)\n",
       " CartesianIndex(11, 21)\n",
       " CartesianIndex(12, 21)\n",
       " CartesianIndex(13, 21)\n",
       " CartesianIndex(13, 20)"
      ]
     },
     "execution_count": 149,
     "metadata": {},
     "output_type": "execute_result"
    }
   ],
   "source": [
    "exhausted_or_enemy_path[2]"
   ]
  },
  {
   "cell_type": "code",
   "execution_count": 147,
   "metadata": {},
   "outputs": [
    {
     "data": {
      "text/plain": [
       "2-element Array{Array{CartesianIndex{2},1},1}:\n",
       " [CartesianIndex(4, 24), CartesianIndex(4, 23), CartesianIndex(5, 23), CartesianIndex(6, 23), CartesianIndex(6, 22), CartesianIndex(7, 22), CartesianIndex(8, 22), CartesianIndex(9, 22), CartesianIndex(10, 22), CartesianIndex(10, 21), CartesianIndex(10, 20), CartesianIndex(11, 20), CartesianIndex(12, 20), CartesianIndex(13, 20)]\n",
       " [CartesianIndex(4, 24), CartesianIndex(4, 23), CartesianIndex(5, 23), CartesianIndex(6, 23), CartesianIndex(6, 22), CartesianIndex(7, 22), CartesianIndex(8, 22), CartesianIndex(9, 22), CartesianIndex(10, 22), CartesianIndex(10, 21), CartesianIndex(11, 21), CartesianIndex(12, 21), CartesianIndex(13, 21), CartesianIndex(13, 20)]"
      ]
     },
     "execution_count": 147,
     "metadata": {},
     "output_type": "execute_result"
    }
   ],
   "source": [
    "exhausted_or_enemy_path"
   ]
  },
  {
   "cell_type": "code",
   "execution_count": 143,
   "metadata": {},
   "outputs": [
    {
     "data": {
      "text/plain": [
       "2-element Array{Array{CartesianIndex{2},1},1}:\n",
       " [CartesianIndex(4, 24), CartesianIndex(4, 23), CartesianIndex(5, 23), CartesianIndex(6, 23), CartesianIndex(6, 22), CartesianIndex(7, 22), CartesianIndex(8, 22), CartesianIndex(9, 22), CartesianIndex(10, 22), CartesianIndex(10, 21), CartesianIndex(10, 20), CartesianIndex(11, 20), CartesianIndex(12, 20), CartesianIndex(13, 20)]\n",
       " [CartesianIndex(4, 24), CartesianIndex(4, 23), CartesianIndex(5, 23), CartesianIndex(6, 23), CartesianIndex(6, 22), CartesianIndex(7, 22), CartesianIndex(8, 22), CartesianIndex(9, 22), CartesianIndex(10, 22), CartesianIndex(10, 21), CartesianIndex(11, 21), CartesianIndex(12, 21), CartesianIndex(13, 21), CartesianIndex(13, 20)]"
      ]
     },
     "execution_count": 143,
     "metadata": {},
     "output_type": "execute_result"
    }
   ],
   "source": [
    "[(x[end], map[x[end]] |> string) for x in exhausted_or_enemy_path]\n",
    "filter(x->string(map[x[end]]) == \"E\", exhausted_or_enemy_path)"
   ]
  },
  {
   "cell_type": "code",
   "execution_count": 144,
   "metadata": {},
   "outputs": [
    {
     "data": {
      "text/plain": [
       "11×13 Array{Int64,2}:\n",
       " 1024  1024  1024  1024  1024  1024  1024  1024  1024  1024  1024  1024  1024\n",
       " 1024  1024  1024  1024  1024     2     3     4  1024  1024  1024  1024  1024\n",
       " 1024  1024  1024  1024     2     1     2  1024  1024  1024  1024  1024  1024\n",
       " 1024  1024  1024     2     1     0  1024  1024  1024  1024  1024  1024  1024\n",
       "    8     7     6  1024     2     1  1024  1024  1024  1024  1024  1024  1024\n",
       "    7     6     5     4     3  1024  1024  1024  1024  1024  1024  1024  1024\n",
       " 1024     7  1024     5     4     5  1024  1024  1024  1024  1024  1024  1024\n",
       "    9     8     7     6  1024     6  1024  1024  1024  1024  1024  1024  1024\n",
       "   10  1024  1024     7     8  1024    12  1024  1024  1024  1024  1024  1024\n",
       "   11    10     9     8     9    10    11    12  1024  1024  1024  1024  1024\n",
       " 1024    11    10     9    10    11    12  1024  1024  1024  1024  1024  1024"
      ]
     },
     "execution_count": 144,
     "metadata": {},
     "output_type": "execute_result"
    }
   ],
   "source": [
    "path_map[1:11, 19:31]"
   ]
  },
  {
   "cell_type": "code",
   "execution_count": 58,
   "metadata": {},
   "outputs": [
    {
     "data": {
      "text/plain": [
       "7-element Array{Array{CartesianIndex{2},1},1}:\n",
       " [CartesianIndex(4, 24), CartesianIndex(4, 23), CartesianIndex(4, 22)]\n",
       " [CartesianIndex(4, 24), CartesianIndex(4, 23), CartesianIndex(3, 23)]\n",
       " [CartesianIndex(4, 24), CartesianIndex(4, 23), CartesianIndex(5, 23)]\n",
       " [CartesianIndex(4, 24), CartesianIndex(3, 24), CartesianIndex(3, 23)]\n",
       " [CartesianIndex(4, 24), CartesianIndex(3, 24), CartesianIndex(2, 24)]\n",
       " [CartesianIndex(4, 24), CartesianIndex(3, 24), CartesianIndex(3, 25)]\n",
       " [CartesianIndex(4, 24), CartesianIndex(5, 24), CartesianIndex(5, 23)]"
      ]
     },
     "execution_count": 58,
     "metadata": {},
     "output_type": "execute_result"
    }
   ],
   "source": [
    "old_paths"
   ]
  },
  {
   "cell_type": "code",
   "execution_count": 34,
   "metadata": {},
   "outputs": [
    {
     "data": {
      "text/plain": [
       "5×5 Array{Int64,2}:\n",
       " -1  -1  -1  -1  -1\n",
       " -1  -1   1  -1  -1\n",
       " -1   1   0  -1  -1\n",
       " -1  -1   1  -1  -1\n",
       " -1  -1  -1  -1  -1"
      ]
     },
     "execution_count": 34,
     "metadata": {},
     "output_type": "execute_result"
    }
   ],
   "source": []
  },
  {
   "cell_type": "code",
   "execution_count": null,
   "metadata": {},
   "outputs": [],
   "source": [
    "pos_char_char"
   ]
  },
  {
   "cell_type": "code",
   "execution_count": null,
   "metadata": {},
   "outputs": [],
   "source": [
    "found_nearest_opponent = false"
   ]
  },
  {
   "cell_type": "code",
   "execution_count": null,
   "metadata": {},
   "outputs": [],
   "source": [
    "display([1,3,3])"
   ]
  },
  {
   "cell_type": "code",
   "execution_count": null,
   "metadata": {},
   "outputs": [],
   "source": [
    "path_map = Array{Int, 2}(undef, 32, 32)\n",
    "path_map .= -1"
   ]
  },
  {
   "cell_type": "code",
   "execution_count": null,
   "metadata": {},
   "outputs": [],
   "source": [
    "dist"
   ]
  },
  {
   "cell_type": "code",
   "execution_count": null,
   "metadata": {},
   "outputs": [],
   "source": [
    "paths_upto, length(old_paths)"
   ]
  },
  {
   "cell_type": "code",
   "execution_count": null,
   "metadata": {},
   "outputs": [],
   "source": []
  },
  {
   "cell_type": "code",
   "execution_count": null,
   "metadata": {},
   "outputs": [],
   "source": [
    "if paths_upto > length(old_paths)\n",
    "    if length(new_paths) == 0\n",
    "        return \"done\"\n",
    "    end\n",
    "    old_paths = new_paths\n",
    "    new_paths = Vector{CartesianIndex{2}}[]\n",
    "    paths_upto = 1\n",
    "    \n",
    "    for op in old_paths\n",
    "        path_map[op[end]] = dist\n",
    "    end\n",
    "    dist += 1\n",
    "end"
   ]
  },
  {
   "cell_type": "code",
   "execution_count": null,
   "metadata": {},
   "outputs": [],
   "source": [
    "old_paths, new_paths"
   ]
  },
  {
   "cell_type": "code",
   "execution_count": null,
   "metadata": {},
   "outputs": [],
   "source": [
    "println(old_paths[paths_upto])\n",
    "# obtain the last position in the path\n",
    "pos = old_paths[paths_upto][end]"
   ]
  },
  {
   "cell_type": "code",
   "execution_count": null,
   "metadata": {},
   "outputs": [],
   "source": [
    "map[pos] |> string, pos"
   ]
  },
  {
   "cell_type": "code",
   "execution_count": null,
   "metadata": {},
   "outputs": [],
   "source": [
    "np = next_pos(pos, map, !iself(map[pos]))\n",
    "dist, find_elf"
   ]
  },
  {
   "cell_type": "code",
   "execution_count": null,
   "metadata": {},
   "outputs": [],
   "source": [
    "np"
   ]
  },
  {
   "cell_type": "code",
   "execution_count": null,
   "metadata": {},
   "outputs": [],
   "source": [
    "# is the location is empty then set the path map to dist\n",
    "for np in np\n",
    "    if isempty(map[np[1]])\n",
    "        path_map[np[1]] = dist\n",
    "    elseif find_elf && iself(map[np[1]])\n",
    "        println(\"woohoo found Elf\")\n",
    "        found_nearest_opponent = true\n",
    "    elseif (!find_elf) && isg(map[np[1]])\n",
    "        println(\"woohoo found Goblin\")\n",
    "        found_nearest_opponent = true\n",
    "    end\n",
    "end\n",
    "found_nearest_opponent"
   ]
  },
  {
   "cell_type": "code",
   "execution_count": null,
   "metadata": {},
   "outputs": [],
   "source": [
    "path_map[1:7,21:27]"
   ]
  },
  {
   "cell_type": "code",
   "execution_count": null,
   "metadata": {},
   "outputs": [],
   "source": [
    "string.(map[2:6,22:26])"
   ]
  },
  {
   "cell_type": "code",
   "execution_count": null,
   "metadata": {},
   "outputs": [],
   "source": [
    "new_paths_to_add = add_new_pos_to_path(old_paths[paths_upto], np)"
   ]
  },
  {
   "cell_type": "code",
   "execution_count": null,
   "metadata": {},
   "outputs": [],
   "source": [
    "# this is the path that will be replaced\n",
    "old_paths[paths_upto]"
   ]
  },
  {
   "cell_type": "code",
   "execution_count": null,
   "metadata": {},
   "outputs": [],
   "source": [
    "new_paths"
   ]
  },
  {
   "cell_type": "code",
   "execution_count": null,
   "metadata": {},
   "outputs": [],
   "source": [
    "new_paths_to_add[1]"
   ]
  },
  {
   "cell_type": "code",
   "execution_count": null,
   "metadata": {},
   "outputs": [],
   "source": [
    "[push!(new_paths, new_paths_to_add) for new_paths_to_add in new_paths_to_add]\n",
    "new_paths"
   ]
  },
  {
   "cell_type": "code",
   "execution_count": null,
   "metadata": {},
   "outputs": [],
   "source": [
    "paths_upto += 1"
   ]
  },
  {
   "cell_type": "code",
   "execution_count": null,
   "metadata": {},
   "outputs": [],
   "source": [
    "old_paths"
   ]
  },
  {
   "cell_type": "code",
   "execution_count": null,
   "metadata": {},
   "outputs": [],
   "source": [
    "found_nearest_opponent"
   ]
  },
  {
   "cell_type": "code",
   "execution_count": null,
   "metadata": {},
   "outputs": [],
   "source": []
  },
  {
   "cell_type": "code",
   "execution_count": null,
   "metadata": {},
   "outputs": [],
   "source": []
  }
 ],
 "metadata": {
  "kernelspec": {
   "display_name": "Julia 1.0.2",
   "language": "julia",
   "name": "julia-1.0"
  },
  "language_info": {
   "file_extension": ".jl",
   "mimetype": "application/julia",
   "name": "julia",
   "version": "1.0.2"
  }
 },
 "nbformat": 4,
 "nbformat_minor": 2
}
