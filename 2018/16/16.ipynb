{
 "cells": [
  {
   "cell_type": "code",
   "execution_count": 11,
   "metadata": {},
   "outputs": [
    {
     "data": {
      "text/plain": [
       "3171-element Array{String,1}:\n",
       " \"Before: [3, 0, 1, 3]\"\n",
       " \"15 2 1 3\"            \n",
       " \"After:  [3, 0, 1, 1]\"\n",
       " \"\"                    \n",
       " \"Before: [1, 3, 2, 0]\"\n",
       " \"11 2 2 0\"            \n",
       " \"After:  [4, 3, 2, 0]\"\n",
       " \"\"                    \n",
       " \"Before: [0, 3, 3, 1]\"\n",
       " \"14 3 2 0\"            \n",
       " \"After:  [3, 3, 3, 1]\"\n",
       " \"\"                    \n",
       " \"Before: [2, 3, 1, 3]\"\n",
       " ⋮                     \n",
       " \"\"                    \n",
       " \"Before: [0, 0, 2, 1]\"\n",
       " \"11 2 2 3\"            \n",
       " \"After:  [0, 0, 2, 4]\"\n",
       " \"\"                    \n",
       " \"Before: [2, 3, 1, 2]\"\n",
       " \"9 2 1 3\"             \n",
       " \"After:  [2, 3, 1, 1]\"\n",
       " \"\"                    \n",
       " \"Before: [0, 3, 1, 1]\"\n",
       " \"6 0 0 3\"             \n",
       " \"After:  [0, 3, 1, 0]\""
      ]
     },
     "execution_count": 11,
     "metadata": {},
     "output_type": "execute_result"
    }
   ],
   "source": [
    "x = open(\"part1.txt\") do f\n",
    "    [l for l in eachline(f)]\n",
    "end"
   ]
  },
  {
   "cell_type": "code",
   "execution_count": 53,
   "metadata": {},
   "outputs": [
    {
     "data": {
      "text/plain": [
       "eqrr (generic function with 1 method)"
      ]
     },
     "execution_count": 53,
     "metadata": {},
     "output_type": "execute_result"
    }
   ],
   "source": [
    "addr(a, b , c, registers) = begin\n",
    "    registers[c+1] = registers[a+1] + registers[b+1]\n",
    "    registers\n",
    "end\n",
    "\n",
    "addi(a, b , c, registers) = begin\n",
    "    registers[c+1] = registers[a+1] + b\n",
    "    registers\n",
    "end\n",
    "\n",
    "mulr(a, b , c, registers) = begin\n",
    "    registers[c+1] = registers[a+1] * registers[b+1]\n",
    "    registers\n",
    "end\n",
    "\n",
    "muli(a, b , c, registers) = begin\n",
    "    registers[c+1] = registers[a+1] * b\n",
    "    registers\n",
    "end\n",
    "\n",
    "banr(a, b , c, registers) = begin\n",
    "    registers[c+1] = registers[a+1] & registers[b+1]\n",
    "    registers\n",
    "end\n",
    "\n",
    "bani(a, b , c, registers) = begin\n",
    "    registers[c+1] = registers[a+1] & b\n",
    "    registers\n",
    "end\n",
    "\n",
    "borr(a, b , c, registers) = begin\n",
    "    registers[c+1] = registers[a+1] | registers[b+1]\n",
    "    registers\n",
    "end\n",
    "\n",
    "bori(a, b , c, registers) = begin\n",
    "    registers[c+1] = registers[a+1] | b\n",
    "    registers\n",
    "end\n",
    "\n",
    "setr(a, b , c, registers) = begin\n",
    "    registers[c+1] = registers[a+1]\n",
    "    registers\n",
    "end\n",
    "\n",
    "seti(a, b , c, registers) = begin\n",
    "    registers[c+1] = a\n",
    "    registers\n",
    "end\n",
    "\n",
    "gtir(a, b , c, registers) = begin\n",
    "    registers[c+1] = a > registers[b+1] ? 1 : 0\n",
    "    registers\n",
    "end\n",
    "\n",
    "gtri(a, b , c, registers) = begin\n",
    "    registers[c+1] =  registers[a+1] > b ? 1 : 0\n",
    "    registers\n",
    "end\n",
    "\n",
    "gtrr(a, b , c, registers) = begin\n",
    "    registers[c+1] = registers[a+1] > registers[b+1] ? 1 : 0\n",
    "    registers\n",
    "end\n",
    "\n",
    "eqir(a, b , c, registers) = begin\n",
    "    registers[c+1] = a == registers[b+1] ? 1 : 0\n",
    "    registers\n",
    "end\n",
    "\n",
    "eqri(a, b , c, registers) = begin\n",
    "    registers[c+1] =  registers[a+1] == b ? 1 : 0\n",
    "    registers\n",
    "end\n",
    "\n",
    "eqrr(a, b , c, registers) = begin\n",
    "    registers[c+1] = registers[a+1] == registers[b+1] ? 1 : 0\n",
    "    registers\n",
    "end"
   ]
  },
  {
   "cell_type": "code",
   "execution_count": 54,
   "metadata": {},
   "outputs": [
    {
     "name": "stderr",
     "output_type": "stream",
     "text": [
      "WARNING: redefining constant listfn\n"
     ]
    },
    {
     "data": {
      "text/plain": [
       "16-element Array{Function,1}:\n",
       " addr\n",
       " addi\n",
       " mulr\n",
       " muli\n",
       " banr\n",
       " bani\n",
       " borr\n",
       " bori\n",
       " setr\n",
       " seti\n",
       " gtir\n",
       " gtri\n",
       " gtrr\n",
       " eqir\n",
       " eqri\n",
       " eqrr"
      ]
     },
     "execution_count": 54,
     "metadata": {},
     "output_type": "execute_result"
    }
   ],
   "source": [
    "const listfn = [addr, addi, mulr, muli, banr, bani, borr, bori, setr, seti, gtir, gtri, gtrr, eqir, eqri, eqrr]"
   ]
  },
  {
   "cell_type": "code",
   "execution_count": 55,
   "metadata": {},
   "outputs": [],
   "source": [
    "before_registers = [parse.(Int, split(split(split(split(x,\":\")[2],\"[\")[2],\"]\")[1],\",\")) for x in x[1:4:end]];\n",
    "after_registers = [parse.(Int, split(split(split(split(x,\":\")[2],\"[\")[2],\"]\")[1],\",\")) for x in x[3:4:end]];\n",
    "instructions = [parse.(Int, split(x,\" \")) for x in x[2:4:end]];"
   ]
  },
  {
   "cell_type": "code",
   "execution_count": 70,
   "metadata": {},
   "outputs": [
    {
     "data": {
      "text/plain": [
       "try_instr (generic function with 1 method)"
      ]
     },
     "execution_count": 70,
     "metadata": {},
     "output_type": "execute_result"
    }
   ],
   "source": [
    "# try instructions\n",
    "try_instr(instructions, before_registers, after_registers) = begin\n",
    "    sum([fn(instructions[2], instructions[3], instructions[4], copy(before_registers)) for fn in listfn] .== [after_registers])\n",
    "end"
   ]
  },
  {
   "cell_type": "code",
   "execution_count": 79,
   "metadata": {},
   "outputs": [
    {
     "data": {
      "text/plain": [
       "Dict{Bool,Int64} with 2 entries:\n",
       "  false => 300\n",
       "  true  => 493"
      ]
     },
     "execution_count": 79,
     "metadata": {},
     "output_type": "execute_result"
    }
   ],
   "source": [
    "using StatsBase\n",
    "countmap(try_instr.(instructions, before_registers, after_registers) .>= 3)"
   ]
  },
  {
   "cell_type": "code",
   "execution_count": 84,
   "metadata": {},
   "outputs": [
    {
     "data": {
      "text/plain": [
       "try_instr2 (generic function with 1 method)"
      ]
     },
     "execution_count": 84,
     "metadata": {},
     "output_type": "execute_result"
    }
   ],
   "source": [
    "# part 2 work out what each code is doing\n",
    "# try instructions\n",
    "try_instr2(instructions, before_registers, after_registers) = begin\n",
    "    res = [fn(instructions[2], instructions[3], instructions[4], copy(before_registers)) for fn in listfn] .== [after_registers]\n",
    "    (instructions[1], listfn[res])\n",
    "end"
   ]
  },
  {
   "cell_type": "code",
   "execution_count": 85,
   "metadata": {},
   "outputs": [
    {
     "data": {
      "text/plain": [
       "(15, Function[addr, muli, bani, borr, bori, setr, gtir, gtrr, eqri])"
      ]
     },
     "execution_count": 85,
     "metadata": {},
     "output_type": "execute_result"
    }
   ],
   "source": [
    "try_instr2(instructions[1], before_registers[1], after_registers[1])"
   ]
  },
  {
   "cell_type": "code",
   "execution_count": 97,
   "metadata": {},
   "outputs": [
    {
     "data": {
      "text/plain": [
       "793-element Array{Tuple{Int64,Array{Function,1}},1}:\n",
       " (15, [addr, muli, bani, borr, bori, setr, gtir, gtrr, eqri])                       \n",
       " (11, [addr, addi, mulr, muli])                                                     \n",
       " (14, [addi, mulr, borr, bori, seti])                                               \n",
       " (9, [muli, banr, bani, bori, setr, eqri])                                          \n",
       " (0, [banr, seti])                                                                  \n",
       " (8, [mulr, muli, borr, bori])                                                      \n",
       " (15, [addr, muli, bani, borr, bori, setr, gtir, gtrr, eqri])                       \n",
       " (15, [addr, muli, bani, borr, bori, setr, gtir, gtrr, eqri])                       \n",
       " (9, [muli, banr, bani, bori, setr, eqri])                                          \n",
       " (15, [addr, muli, bani, borr, bori, setr, gtir, gtrr, eqri])                       \n",
       " (4, [addi, bori])                                                                  \n",
       " (5, [mulr, muli, banr, bani, setr, seti, gtir, gtri, gtrr, eqir, eqri, eqrr])      \n",
       " (14, [addr, addi, borr, bori, seti])                                               \n",
       " ⋮                                                                                  \n",
       " (5, [addi, mulr, muli, banr, bani, bori, setr, gtir, gtri, gtrr, eqir, eqrr])      \n",
       " (3, [banr, bani, borr, bori, setr, seti])                                          \n",
       " (3, [addi, banr, borr, bori, setr, seti])                                          \n",
       " (6, [addr, addi, mulr, muli, banr, bani, borr, bori, setr, seti, gtir, gtri, gtrr])\n",
       " (2, [bori])                                                                        \n",
       " (5, [mulr, muli, banr, bani, setr, seti, gtir, gtri, gtrr, eqir, eqri, eqrr])      \n",
       " (15, [addr, muli, bani, borr, bori, setr, gtir, gtrr, eqri])                       \n",
       " (2, [bori])                                                                        \n",
       " (14, [addr, addi, borr, bori, seti])                                               \n",
       " (11, [addr, addi, mulr, muli])                                                     \n",
       " (9, [muli, banr, bani, bori, setr, eqri])                                          \n",
       " (6, [addr, addi, mulr, muli, banr, bani, borr, bori, setr, seti, gtir, gtri, gtrr])"
      ]
     },
     "execution_count": 97,
     "metadata": {},
     "output_type": "execute_result"
    }
   ],
   "source": [
    "res = try_instr2.(instructions, before_registers, after_registers)"
   ]
  },
  {
   "cell_type": "code",
   "execution_count": 118,
   "metadata": {},
   "outputs": [
    {
     "data": {
      "text/plain": [
       "16-element Array{Array{Function,1},1}:\n",
       " [banr, seti]                                                                  \n",
       " [muli]                                                                        \n",
       " [bori]                                                                        \n",
       " [borr, bori, setr, seti]                                                      \n",
       " [addi, bori]                                                                  \n",
       " [mulr, muli, banr, bani, setr, gtir, gtri, gtrr, eqir, eqrr]                  \n",
       " [addr, addi, mulr, muli, banr, bani, borr, bori, setr, seti, gtir, gtri, gtrr]\n",
       " [addr, addi, borr, bori, gtir]                                                \n",
       " [borr, bori]                                                                  \n",
       " [muli, bani, bori, setr, eqri]                                                \n",
       " [bani]                                                                        \n",
       " [addr, addi, mulr, muli]                                                      \n",
       " [addr, muli, bani, borr, bori, setr, gtrr, eqir, eqri]                        \n",
       " [addi, mulr]                                                                  \n",
       " [addi, borr, bori, seti]                                                      \n",
       " [addr, muli, bani, borr, bori, setr, gtir, gtrr, eqri]                        "
      ]
     },
     "execution_count": 118,
     "metadata": {},
     "output_type": "execute_result"
    }
   ],
   "source": [
    "res2 = [reduce(intersect, [y for (_, y) in filter(x->x[1] == opcode, res)]) for opcode in 0:15]"
   ]
  },
  {
   "cell_type": "code",
   "execution_count": 119,
   "metadata": {},
   "outputs": [
    {
     "data": {
      "text/plain": [
       "3-element Array{Tuple{Int64,Array{Function,1}},1}:\n",
       " (1, [muli]) \n",
       " (2, [bori]) \n",
       " (10, [bani])"
      ]
     },
     "execution_count": 119,
     "metadata": {},
     "output_type": "execute_result"
    }
   ],
   "source": [
    "sures = filter(x->length(x[2]) == 1, zip(0:15, res2) |> collect)"
   ]
  },
  {
   "cell_type": "code",
   "execution_count": 120,
   "metadata": {},
   "outputs": [
    {
     "data": {
      "text/plain": [
       "3-element Array{Function,1}:\n",
       " muli\n",
       " bori\n",
       " bani"
      ]
     },
     "execution_count": 120,
     "metadata": {},
     "output_type": "execute_result"
    }
   ],
   "source": [
    "sures_fn =[sures[2][1] for sures in sures]"
   ]
  },
  {
   "cell_type": "code",
   "execution_count": 129,
   "metadata": {},
   "outputs": [
    {
     "data": {
      "text/plain": [
       "16-element Array{Tuple{Int64,Array{Function,1}},1}:\n",
       " (1, [muli]) \n",
       " (2, [bori]) \n",
       " (10, [bani])\n",
       " (4, [addi]) \n",
       " (8, [borr]) \n",
       " (13, [mulr])\n",
       " (14, [seti])\n",
       " (0, [banr]) \n",
       " (3, [setr]) \n",
       " (11, [addr])\n",
       " (7, [gtir]) \n",
       " (9, [eqri]) \n",
       " (15, [gtrr])\n",
       " (6, [gtri]) \n",
       " (12, [eqir])\n",
       " (5, [eqrr]) "
      ]
     },
     "execution_count": 129,
     "metadata": {},
     "output_type": "execute_result"
    }
   ],
   "source": [
    "res2 = [setdiff(res2, sures_fn) for res2 in res2]\n",
    "sures = vcat(sures, filter(x->length(x[2]) == 1, zip(0:15, res2) |> collect))\n",
    "sures_fn =[sures[2][1] for sures in sures]\n",
    "sures"
   ]
  },
  {
   "cell_type": "code",
   "execution_count": 132,
   "metadata": {},
   "outputs": [
    {
     "data": {
      "text/plain": [
       "16-element Array{Function,1}:\n",
       " banr\n",
       " muli\n",
       " bori\n",
       " setr\n",
       " addi\n",
       " eqrr\n",
       " gtri\n",
       " gtir\n",
       " borr\n",
       " eqri\n",
       " bani\n",
       " addr\n",
       " eqir\n",
       " mulr\n",
       " seti\n",
       " gtrr"
      ]
     },
     "execution_count": 132,
     "metadata": {},
     "output_type": "execute_result"
    }
   ],
   "source": [
    "# now i have the sures\n",
    "opcode = Vector{Function}(undef, 16)\n",
    "for (i, fn) in sures\n",
    "    opcode[i+1] = fn[1]\n",
    "end\n",
    "opcode"
   ]
  },
  {
   "cell_type": "code",
   "execution_count": 138,
   "metadata": {},
   "outputs": [
    {
     "data": {
      "text/plain": [
       "850-element Array{Array{Int64,1},1}:\n",
       " [1, 0, 0, 1] \n",
       " [4, 1, 1, 1] \n",
       " [14, 0, 0, 3]\n",
       " [14, 3, 2, 2]\n",
       " [12, 3, 2, 1]\n",
       " [1, 1, 2, 1] \n",
       " [11, 1, 0, 0]\n",
       " [3, 0, 2, 1] \n",
       " [14, 2, 2, 0]\n",
       " [9, 0, 2, 0] \n",
       " [1, 0, 2, 0] \n",
       " [11, 0, 1, 1]\n",
       " [3, 1, 2, 3] \n",
       " ⋮            \n",
       " [14, 1, 1, 3]\n",
       " [13, 3, 0, 2]\n",
       " [1, 2, 3, 2] \n",
       " [11, 2, 1, 1]\n",
       " [3, 1, 1, 3] \n",
       " [14, 2, 2, 2]\n",
       " [14, 2, 2, 1]\n",
       " [14, 1, 3, 0]\n",
       " [3, 0, 2, 1] \n",
       " [1, 1, 2, 1] \n",
       " [11, 3, 1, 3]\n",
       " [3, 3, 2, 0] "
      ]
     },
     "execution_count": 138,
     "metadata": {},
     "output_type": "execute_result"
    }
   ],
   "source": [
    "xx = open(\"part2.txt\") do f\n",
    "    [parse.(Int, split(l,\" \")) for l in eachline(f)]\n",
    "end"
   ]
  },
  {
   "cell_type": "code",
   "execution_count": 139,
   "metadata": {},
   "outputs": [
    {
     "data": {
      "text/plain": [
       "4-element Array{Int64,1}:\n",
       " 0\n",
       " 0\n",
       " 0\n",
       " 0"
      ]
     },
     "execution_count": 139,
     "metadata": {},
     "output_type": "execute_result"
    }
   ],
   "source": [
    "register= zeros(Int, 4)"
   ]
  },
  {
   "cell_type": "code",
   "execution_count": 140,
   "metadata": {},
   "outputs": [
    {
     "data": {
      "text/plain": [
       "4-element Array{Int64,1}:\n",
       " 445\n",
       "   2\n",
       "   2\n",
       " 445"
      ]
     },
     "execution_count": 140,
     "metadata": {},
     "output_type": "execute_result"
    }
   ],
   "source": [
    "for xx in xx\n",
    "    opcode[xx[1] + 1](xx[2], xx[3], xx[4], register)\n",
    "end\n",
    "register"
   ]
  },
  {
   "cell_type": "code",
   "execution_count": null,
   "metadata": {},
   "outputs": [],
   "source": [
    "register[1]"
   ]
  }
 ],
 "metadata": {
  "kernelspec": {
   "display_name": "Julia 1.0.2",
   "language": "julia",
   "name": "julia-1.0"
  },
  "language_info": {
   "file_extension": ".jl",
   "mimetype": "application/julia",
   "name": "julia",
   "version": "1.0.2"
  }
 },
 "nbformat": 4,
 "nbformat_minor": 2
}
