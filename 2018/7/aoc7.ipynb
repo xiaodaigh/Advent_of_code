{
 "cells": [
  {
   "cell_type": "code",
   "execution_count": 4,
   "metadata": {},
   "outputs": [
    {
     "data": {
      "text/plain": [
       "101-element Array{String,1}:\n",
       " \"Step O must be finished before step W can begin.\"\n",
       " \"Step S must be finished before step V can begin.\"\n",
       " \"Step Z must be finished before step B can begin.\"\n",
       " \"Step F must be finished before step R can begin.\"\n",
       " \"Step I must be finished before step D can begin.\"\n",
       " \"Step W must be finished before step P can begin.\"\n",
       " \"Step J must be finished before step E can begin.\"\n",
       " \"Step P must be finished before step N can begin.\"\n",
       " \"Step Q must be finished before step V can begin.\"\n",
       " \"Step D must be finished before step K can begin.\"\n",
       " \"Step X must be finished before step N can begin.\"\n",
       " \"Step E must be finished before step B can begin.\"\n",
       " \"Step L must be finished before step H can begin.\"\n",
       " ⋮                                                 \n",
       " \"Step A must be finished before step G can begin.\"\n",
       " \"Step P must be finished before step M can begin.\"\n",
       " \"Step C must be finished before step R can begin.\"\n",
       " \"Step Q must be finished before step Y can begin.\"\n",
       " \"Step O must be finished before step H can begin.\"\n",
       " \"Step O must be finished before step R can begin.\"\n",
       " \"Step Q must be finished before step M can begin.\"\n",
       " \"Step V must be finished before step B can begin.\"\n",
       " \"Step H must be finished before step G can begin.\"\n",
       " \"Step J must be finished before step V can begin.\"\n",
       " \"Step M must be finished before step R can begin.\"\n",
       " \"Step R must be finished before step G can begin.\""
      ]
     },
     "execution_count": 4,
     "metadata": {},
     "output_type": "execute_result"
    }
   ],
   "source": [
    "x=open(\"aoc_7.txt\") do f\n",
    "    [l for l in eachline(f)]\n",
    "end"
   ]
  },
  {
   "cell_type": "code",
   "execution_count": 5,
   "metadata": {},
   "outputs": [
    {
     "data": {
      "text/plain": [
       "0-element Array{String,1}"
      ]
     },
     "execution_count": 5,
     "metadata": {},
     "output_type": "execute_result"
    }
   ],
   "source": [
    "xx = [split(x,\" \")[2] => split(x,\" \")[8] for x in x]\n",
    "res = String[]"
   ]
  },
  {
   "cell_type": "code",
   "execution_count": 6,
   "metadata": {},
   "outputs": [
    {
     "name": "stdout",
     "output_type": "stream",
     "text": [
      "I\n",
      "Pair{SubString{String},SubString{String}}[\"O\"=>\"W\", \"S\"=>\"V\", \"Z\"=>\"B\", \"F\"=>\"R\", \"I\"=>\"D\", \"W\"=>\"P\", \"J\"=>\"E\", \"P\"=>\"N\", \"Q\"=>\"V\", \"D\"=>\"K\", \"X\"=>\"N\", \"E\"=>\"B\", \"L\"=>\"H\", \"A\"=>\"T\", \"U\"=>\"R\", \"M\"=>\"T\", \"V\"=>\"R\", \"N\"=>\"C\", \"T\"=>\"C\", \"Y\"=>\"B\", \"H\"=>\"B\", \"B\"=>\"C\", \"C\"=>\"K\", \"R\"=>\"K\", \"G\"=>\"K\", \"Q\"=>\"K\", \"U\"=>\"Y\", \"L\"=>\"G\", \"S\"=>\"D\", \"E\"=>\"R\", \"Z\"=>\"M\", \"U\"=>\"K\", \"Q\"=>\"H\", \"T\"=>\"B\", \"J\"=>\"Q\", \"X\"=>\"V\", \"Q\"=>\"U\", \"T\"=>\"K\", \"S\"=>\"B\", \"L\"=>\"C\", \"Q\"=>\"D\", \"E\"=>\"K\", \"N\"=>\"G\", \"L\"=>\"T\", \"E\"=>\"L\", \"A\"=>\"N\", \"V\"=>\"C\", \"D\"=>\"L\", \"O\"=>\"S\", \"V\"=>\"Y\", \"N\"=>\"T\", \"I\"=>\"H\", \"U\"=>\"N\", \"O\"=>\"Y\", \"J\"=>\"C\", \"Y\"=>\"C\", \"W\"=>\"A\", \"M\"=>\"C\", \"X\"=>\"E\", \"S\"=>\"J\", \"U\"=>\"C\", \"H\"=>\"K\", \"Q\"=>\"B\", \"E\"=>\"G\", \"N\"=>\"H\", \"I\"=>\"J\", \"P\"=>\"B\", \"Z\"=>\"T\", \"J\"=>\"M\", \"C\"=>\"G\", \"I\"=>\"B\", \"D\"=>\"G\", \"X\"=>\"T\", \"O\"=>\"F\", \"A\"=>\"Y\", \"S\"=>\"G\", \"X\"=>\"K\", \"L\"=>\"M\", \"A\"=>\"H\", \"D\"=>\"H\", \"U\"=>\"T\", \"B\"=>\"K\", \"S\"=>\"C\", \"W\"=>\"R\", \"M\"=>\"G\", \"M\"=>\"H\", \"J\"=>\"D\", \"W\"=>\"Y\", \"S\"=>\"Y\", \"A\"=>\"G\", \"P\"=>\"M\", \"C\"=>\"R\", \"Q\"=>\"Y\", \"O\"=>\"H\", \"O\"=>\"R\", \"Q\"=>\"M\", \"V\"=>\"B\", \"H\"=>\"G\", \"J\"=>\"V\", \"M\"=>\"R\", \"R\"=>\"G\"]\n",
      "O\n",
      "Pair{SubString{String},SubString{String}}[\"O\"=>\"W\", \"S\"=>\"V\", \"Z\"=>\"B\", \"F\"=>\"R\", \"W\"=>\"P\", \"J\"=>\"E\", \"P\"=>\"N\", \"Q\"=>\"V\", \"D\"=>\"K\", \"X\"=>\"N\", \"E\"=>\"B\", \"L\"=>\"H\", \"A\"=>\"T\", \"U\"=>\"R\", \"M\"=>\"T\", \"V\"=>\"R\", \"N\"=>\"C\", \"T\"=>\"C\", \"Y\"=>\"B\", \"H\"=>\"B\", \"B\"=>\"C\", \"C\"=>\"K\", \"R\"=>\"K\", \"G\"=>\"K\", \"Q\"=>\"K\", \"U\"=>\"Y\", \"L\"=>\"G\", \"S\"=>\"D\", \"E\"=>\"R\", \"Z\"=>\"M\", \"U\"=>\"K\", \"Q\"=>\"H\", \"T\"=>\"B\", \"J\"=>\"Q\", \"X\"=>\"V\", \"Q\"=>\"U\", \"T\"=>\"K\", \"S\"=>\"B\", \"L\"=>\"C\", \"Q\"=>\"D\", \"E\"=>\"K\", \"N\"=>\"G\", \"L\"=>\"T\", \"E\"=>\"L\", \"A\"=>\"N\", \"V\"=>\"C\", \"D\"=>\"L\", \"O\"=>\"S\", \"V\"=>\"Y\", \"N\"=>\"T\", \"U\"=>\"N\", \"O\"=>\"Y\", \"J\"=>\"C\", \"Y\"=>\"C\", \"W\"=>\"A\", \"M\"=>\"C\", \"X\"=>\"E\", \"S\"=>\"J\", \"U\"=>\"C\", \"H\"=>\"K\", \"Q\"=>\"B\", \"E\"=>\"G\", \"N\"=>\"H\", \"P\"=>\"B\", \"Z\"=>\"T\", \"J\"=>\"M\", \"C\"=>\"G\", \"D\"=>\"G\", \"X\"=>\"T\", \"O\"=>\"F\", \"A\"=>\"Y\", \"S\"=>\"G\", \"X\"=>\"K\", \"L\"=>\"M\", \"A\"=>\"H\", \"D\"=>\"H\", \"U\"=>\"T\", \"B\"=>\"K\", \"S\"=>\"C\", \"W\"=>\"R\", \"M\"=>\"G\", \"M\"=>\"H\", \"J\"=>\"D\", \"W\"=>\"Y\", \"S\"=>\"Y\", \"A\"=>\"G\", \"P\"=>\"M\", \"C\"=>\"R\", \"Q\"=>\"Y\", \"O\"=>\"H\", \"O\"=>\"R\", \"Q\"=>\"M\", \"V\"=>\"B\", \"H\"=>\"G\", \"J\"=>\"V\", \"M\"=>\"R\", \"R\"=>\"G\"]\n",
      "F\n",
      "Pair{SubString{String},SubString{String}}[\"S\"=>\"V\", \"Z\"=>\"B\", \"F\"=>\"R\", \"W\"=>\"P\", \"J\"=>\"E\", \"P\"=>\"N\", \"Q\"=>\"V\", \"D\"=>\"K\", \"X\"=>\"N\", \"E\"=>\"B\", \"L\"=>\"H\", \"A\"=>\"T\", \"U\"=>\"R\", \"M\"=>\"T\", \"V\"=>\"R\", \"N\"=>\"C\", \"T\"=>\"C\", \"Y\"=>\"B\", \"H\"=>\"B\", \"B\"=>\"C\", \"C\"=>\"K\", \"R\"=>\"K\", \"G\"=>\"K\", \"Q\"=>\"K\", \"U\"=>\"Y\", \"L\"=>\"G\", \"S\"=>\"D\", \"E\"=>\"R\", \"Z\"=>\"M\", \"U\"=>\"K\", \"Q\"=>\"H\", \"T\"=>\"B\", \"J\"=>\"Q\", \"X\"=>\"V\", \"Q\"=>\"U\", \"T\"=>\"K\", \"S\"=>\"B\", \"L\"=>\"C\", \"Q\"=>\"D\", \"E\"=>\"K\", \"N\"=>\"G\", \"L\"=>\"T\", \"E\"=>\"L\", \"A\"=>\"N\", \"V\"=>\"C\", \"D\"=>\"L\", \"V\"=>\"Y\", \"N\"=>\"T\", \"U\"=>\"N\", \"J\"=>\"C\", \"Y\"=>\"C\", \"W\"=>\"A\", \"M\"=>\"C\", \"X\"=>\"E\", \"S\"=>\"J\", \"U\"=>\"C\", \"H\"=>\"K\", \"Q\"=>\"B\", \"E\"=>\"G\", \"N\"=>\"H\", \"P\"=>\"B\", \"Z\"=>\"T\", \"J\"=>\"M\", \"C\"=>\"G\", \"D\"=>\"G\", \"X\"=>\"T\", \"A\"=>\"Y\", \"S\"=>\"G\", \"X\"=>\"K\", \"L\"=>\"M\", \"A\"=>\"H\", \"D\"=>\"H\", \"U\"=>\"T\", \"B\"=>\"K\", \"S\"=>\"C\", \"W\"=>\"R\", \"M\"=>\"G\", \"M\"=>\"H\", \"J\"=>\"D\", \"W\"=>\"Y\", \"S\"=>\"Y\", \"A\"=>\"G\", \"P\"=>\"M\", \"C\"=>\"R\", \"Q\"=>\"Y\", \"Q\"=>\"M\", \"V\"=>\"B\", \"H\"=>\"G\", \"J\"=>\"V\", \"M\"=>\"R\", \"R\"=>\"G\"]\n",
      "S\n",
      "Pair{SubString{String},SubString{String}}[\"S\"=>\"V\", \"Z\"=>\"B\", \"W\"=>\"P\", \"J\"=>\"E\", \"P\"=>\"N\", \"Q\"=>\"V\", \"D\"=>\"K\", \"X\"=>\"N\", \"E\"=>\"B\", \"L\"=>\"H\", \"A\"=>\"T\", \"U\"=>\"R\", \"M\"=>\"T\", \"V\"=>\"R\", \"N\"=>\"C\", \"T\"=>\"C\", \"Y\"=>\"B\", \"H\"=>\"B\", \"B\"=>\"C\", \"C\"=>\"K\", \"R\"=>\"K\", \"G\"=>\"K\", \"Q\"=>\"K\", \"U\"=>\"Y\", \"L\"=>\"G\", \"S\"=>\"D\", \"E\"=>\"R\", \"Z\"=>\"M\", \"U\"=>\"K\", \"Q\"=>\"H\", \"T\"=>\"B\", \"J\"=>\"Q\", \"X\"=>\"V\", \"Q\"=>\"U\", \"T\"=>\"K\", \"S\"=>\"B\", \"L\"=>\"C\", \"Q\"=>\"D\", \"E\"=>\"K\", \"N\"=>\"G\", \"L\"=>\"T\", \"E\"=>\"L\", \"A\"=>\"N\", \"V\"=>\"C\", \"D\"=>\"L\", \"V\"=>\"Y\", \"N\"=>\"T\", \"U\"=>\"N\", \"J\"=>\"C\", \"Y\"=>\"C\", \"W\"=>\"A\", \"M\"=>\"C\", \"X\"=>\"E\", \"S\"=>\"J\", \"U\"=>\"C\", \"H\"=>\"K\", \"Q\"=>\"B\", \"E\"=>\"G\", \"N\"=>\"H\", \"P\"=>\"B\", \"Z\"=>\"T\", \"J\"=>\"M\", \"C\"=>\"G\", \"D\"=>\"G\", \"X\"=>\"T\", \"A\"=>\"Y\", \"S\"=>\"G\", \"X\"=>\"K\", \"L\"=>\"M\", \"A\"=>\"H\", \"D\"=>\"H\", \"U\"=>\"T\", \"B\"=>\"K\", \"S\"=>\"C\", \"W\"=>\"R\", \"M\"=>\"G\", \"M\"=>\"H\", \"J\"=>\"D\", \"W\"=>\"Y\", \"S\"=>\"Y\", \"A\"=>\"G\", \"P\"=>\"M\", \"C\"=>\"R\", \"Q\"=>\"Y\", \"Q\"=>\"M\", \"V\"=>\"B\", \"H\"=>\"G\", \"J\"=>\"V\", \"M\"=>\"R\", \"R\"=>\"G\"]\n",
      "J\n",
      "Pair{SubString{String},SubString{String}}[\"Z\"=>\"B\", \"W\"=>\"P\", \"J\"=>\"E\", \"P\"=>\"N\", \"Q\"=>\"V\", \"D\"=>\"K\", \"X\"=>\"N\", \"E\"=>\"B\", \"L\"=>\"H\", \"A\"=>\"T\", \"U\"=>\"R\", \"M\"=>\"T\", \"V\"=>\"R\", \"N\"=>\"C\", \"T\"=>\"C\", \"Y\"=>\"B\", \"H\"=>\"B\", \"B\"=>\"C\", \"C\"=>\"K\", \"R\"=>\"K\", \"G\"=>\"K\", \"Q\"=>\"K\", \"U\"=>\"Y\", \"L\"=>\"G\", \"E\"=>\"R\", \"Z\"=>\"M\", \"U\"=>\"K\", \"Q\"=>\"H\", \"T\"=>\"B\", \"J\"=>\"Q\", \"X\"=>\"V\", \"Q\"=>\"U\", \"T\"=>\"K\", \"L\"=>\"C\", \"Q\"=>\"D\", \"E\"=>\"K\", \"N\"=>\"G\", \"L\"=>\"T\", \"E\"=>\"L\", \"A\"=>\"N\", \"V\"=>\"C\", \"D\"=>\"L\", \"V\"=>\"Y\", \"N\"=>\"T\", \"U\"=>\"N\", \"J\"=>\"C\", \"Y\"=>\"C\", \"W\"=>\"A\", \"M\"=>\"C\", \"X\"=>\"E\", \"U\"=>\"C\", \"H\"=>\"K\", \"Q\"=>\"B\", \"E\"=>\"G\", \"N\"=>\"H\", \"P\"=>\"B\", \"Z\"=>\"T\", \"J\"=>\"M\", \"C\"=>\"G\", \"D\"=>\"G\", \"X\"=>\"T\", \"A\"=>\"Y\", \"X\"=>\"K\", \"L\"=>\"M\", \"A\"=>\"H\", \"D\"=>\"H\", \"U\"=>\"T\", \"B\"=>\"K\", \"W\"=>\"R\", \"M\"=>\"G\", \"M\"=>\"H\", \"J\"=>\"D\", \"W\"=>\"Y\", \"A\"=>\"G\", \"P\"=>\"M\", \"C\"=>\"R\", \"Q\"=>\"Y\", \"Q\"=>\"M\", \"V\"=>\"B\", \"H\"=>\"G\", \"J\"=>\"V\", \"M\"=>\"R\", \"R\"=>\"G\"]\n",
      "Q\n",
      "Pair{SubString{String},SubString{String}}[\"Z\"=>\"B\", \"W\"=>\"P\", \"P\"=>\"N\", \"Q\"=>\"V\", \"D\"=>\"K\", \"X\"=>\"N\", \"E\"=>\"B\", \"L\"=>\"H\", \"A\"=>\"T\", \"U\"=>\"R\", \"M\"=>\"T\", \"V\"=>\"R\", \"N\"=>\"C\", \"T\"=>\"C\", \"Y\"=>\"B\", \"H\"=>\"B\", \"B\"=>\"C\", \"C\"=>\"K\", \"R\"=>\"K\", \"G\"=>\"K\", \"Q\"=>\"K\", \"U\"=>\"Y\", \"L\"=>\"G\", \"E\"=>\"R\", \"Z\"=>\"M\", \"U\"=>\"K\", \"Q\"=>\"H\", \"T\"=>\"B\", \"X\"=>\"V\", \"Q\"=>\"U\", \"T\"=>\"K\", \"L\"=>\"C\", \"Q\"=>\"D\", \"E\"=>\"K\", \"N\"=>\"G\", \"L\"=>\"T\", \"E\"=>\"L\", \"A\"=>\"N\", \"V\"=>\"C\", \"D\"=>\"L\", \"V\"=>\"Y\", \"N\"=>\"T\", \"U\"=>\"N\", \"Y\"=>\"C\", \"W\"=>\"A\", \"M\"=>\"C\", \"X\"=>\"E\", \"U\"=>\"C\", \"H\"=>\"K\", \"Q\"=>\"B\", \"E\"=>\"G\", \"N\"=>\"H\", \"P\"=>\"B\", \"Z\"=>\"T\", \"C\"=>\"G\", \"D\"=>\"G\", \"X\"=>\"T\", \"A\"=>\"Y\", \"X\"=>\"K\", \"L\"=>\"M\", \"A\"=>\"H\", \"D\"=>\"H\", \"U\"=>\"T\", \"B\"=>\"K\", \"W\"=>\"R\", \"M\"=>\"G\", \"M\"=>\"H\", \"W\"=>\"Y\", \"A\"=>\"G\", \"P\"=>\"M\", \"C\"=>\"R\", \"Q\"=>\"Y\", \"Q\"=>\"M\", \"V\"=>\"B\", \"H\"=>\"G\", \"M\"=>\"R\", \"R\"=>\"G\"]\n",
      "D\n",
      "Pair{SubString{String},SubString{String}}[\"Z\"=>\"B\", \"W\"=>\"P\", \"P\"=>\"N\", \"D\"=>\"K\", \"X\"=>\"N\", \"E\"=>\"B\", \"L\"=>\"H\", \"A\"=>\"T\", \"U\"=>\"R\", \"M\"=>\"T\", \"V\"=>\"R\", \"N\"=>\"C\", \"T\"=>\"C\", \"Y\"=>\"B\", \"H\"=>\"B\", \"B\"=>\"C\", \"C\"=>\"K\", \"R\"=>\"K\", \"G\"=>\"K\", \"U\"=>\"Y\", \"L\"=>\"G\", \"E\"=>\"R\", \"Z\"=>\"M\", \"U\"=>\"K\", \"T\"=>\"B\", \"X\"=>\"V\", \"T\"=>\"K\", \"L\"=>\"C\", \"E\"=>\"K\", \"N\"=>\"G\", \"L\"=>\"T\", \"E\"=>\"L\", \"A\"=>\"N\", \"V\"=>\"C\", \"D\"=>\"L\", \"V\"=>\"Y\", \"N\"=>\"T\", \"U\"=>\"N\", \"Y\"=>\"C\", \"W\"=>\"A\", \"M\"=>\"C\", \"X\"=>\"E\", \"U\"=>\"C\", \"H\"=>\"K\", \"E\"=>\"G\", \"N\"=>\"H\", \"P\"=>\"B\", \"Z\"=>\"T\", \"C\"=>\"G\", \"D\"=>\"G\", \"X\"=>\"T\", \"A\"=>\"Y\", \"X\"=>\"K\", \"L\"=>\"M\", \"A\"=>\"H\", \"D\"=>\"H\", \"U\"=>\"T\", \"B\"=>\"K\", \"W\"=>\"R\", \"M\"=>\"G\", \"M\"=>\"H\", \"W\"=>\"Y\", \"A\"=>\"G\", \"P\"=>\"M\", \"C\"=>\"R\", \"V\"=>\"B\", \"H\"=>\"G\", \"M\"=>\"R\", \"R\"=>\"G\"]\n",
      "U\n",
      "Pair{SubString{String},SubString{String}}[\"Z\"=>\"B\", \"W\"=>\"P\", \"P\"=>\"N\", \"X\"=>\"N\", \"E\"=>\"B\", \"L\"=>\"H\", \"A\"=>\"T\", \"U\"=>\"R\", \"M\"=>\"T\", \"V\"=>\"R\", \"N\"=>\"C\", \"T\"=>\"C\", \"Y\"=>\"B\", \"H\"=>\"B\", \"B\"=>\"C\", \"C\"=>\"K\", \"R\"=>\"K\", \"G\"=>\"K\", \"U\"=>\"Y\", \"L\"=>\"G\", \"E\"=>\"R\", \"Z\"=>\"M\", \"U\"=>\"K\", \"T\"=>\"B\", \"X\"=>\"V\", \"T\"=>\"K\", \"L\"=>\"C\", \"E\"=>\"K\", \"N\"=>\"G\", \"L\"=>\"T\", \"E\"=>\"L\", \"A\"=>\"N\", \"V\"=>\"C\", \"V\"=>\"Y\", \"N\"=>\"T\", \"U\"=>\"N\", \"Y\"=>\"C\", \"W\"=>\"A\", \"M\"=>\"C\", \"X\"=>\"E\", \"U\"=>\"C\", \"H\"=>\"K\", \"E\"=>\"G\", \"N\"=>\"H\", \"P\"=>\"B\", \"Z\"=>\"T\", \"C\"=>\"G\", \"X\"=>\"T\", \"A\"=>\"Y\", \"X\"=>\"K\", \"L\"=>\"M\", \"A\"=>\"H\", \"U\"=>\"T\", \"B\"=>\"K\", \"W\"=>\"R\", \"M\"=>\"G\", \"M\"=>\"H\", \"W\"=>\"Y\", \"A\"=>\"G\", \"P\"=>\"M\", \"C\"=>\"R\", \"V\"=>\"B\", \"H\"=>\"G\", \"M\"=>\"R\", \"R\"=>\"G\"]\n",
      "W\n",
      "Pair{SubString{String},SubString{String}}[\"Z\"=>\"B\", \"W\"=>\"P\", \"P\"=>\"N\", \"X\"=>\"N\", \"E\"=>\"B\", \"L\"=>\"H\", \"A\"=>\"T\", \"M\"=>\"T\", \"V\"=>\"R\", \"N\"=>\"C\", \"T\"=>\"C\", \"Y\"=>\"B\", \"H\"=>\"B\", \"B\"=>\"C\", \"C\"=>\"K\", \"R\"=>\"K\", \"G\"=>\"K\", \"L\"=>\"G\", \"E\"=>\"R\", \"Z\"=>\"M\", \"T\"=>\"B\", \"X\"=>\"V\", \"T\"=>\"K\", \"L\"=>\"C\", \"E\"=>\"K\", \"N\"=>\"G\", \"L\"=>\"T\", \"E\"=>\"L\", \"A\"=>\"N\", \"V\"=>\"C\", \"V\"=>\"Y\", \"N\"=>\"T\", \"Y\"=>\"C\", \"W\"=>\"A\", \"M\"=>\"C\", \"X\"=>\"E\", \"H\"=>\"K\", \"E\"=>\"G\", \"N\"=>\"H\", \"P\"=>\"B\", \"Z\"=>\"T\", \"C\"=>\"G\", \"X\"=>\"T\", \"A\"=>\"Y\", \"X\"=>\"K\", \"L\"=>\"M\", \"A\"=>\"H\", \"B\"=>\"K\", \"W\"=>\"R\", \"M\"=>\"G\", \"M\"=>\"H\", \"W\"=>\"Y\", \"A\"=>\"G\", \"P\"=>\"M\", \"C\"=>\"R\", \"V\"=>\"B\", \"H\"=>\"G\", \"M\"=>\"R\", \"R\"=>\"G\"]\n",
      "A\n",
      "Pair{SubString{String},SubString{String}}[\"Z\"=>\"B\", \"P\"=>\"N\", \"X\"=>\"N\", \"E\"=>\"B\", \"L\"=>\"H\", \"A\"=>\"T\", \"M\"=>\"T\", \"V\"=>\"R\", \"N\"=>\"C\", \"T\"=>\"C\", \"Y\"=>\"B\", \"H\"=>\"B\", \"B\"=>\"C\", \"C\"=>\"K\", \"R\"=>\"K\", \"G\"=>\"K\", \"L\"=>\"G\", \"E\"=>\"R\", \"Z\"=>\"M\", \"T\"=>\"B\", \"X\"=>\"V\", \"T\"=>\"K\", \"L\"=>\"C\", \"E\"=>\"K\", \"N\"=>\"G\", \"L\"=>\"T\", \"E\"=>\"L\", \"A\"=>\"N\", \"V\"=>\"C\", \"V\"=>\"Y\", \"N\"=>\"T\", \"Y\"=>\"C\", \"M\"=>\"C\", \"X\"=>\"E\", \"H\"=>\"K\", \"E\"=>\"G\", \"N\"=>\"H\", \"P\"=>\"B\", \"Z\"=>\"T\", \"C\"=>\"G\", \"X\"=>\"T\", \"A\"=>\"Y\", \"X\"=>\"K\", \"L\"=>\"M\", \"A\"=>\"H\", \"B\"=>\"K\", \"M\"=>\"G\", \"M\"=>\"H\", \"A\"=>\"G\", \"P\"=>\"M\", \"C\"=>\"R\", \"V\"=>\"B\", \"H\"=>\"G\", \"M\"=>\"R\", \"R\"=>\"G\"]\n",
      "P\n",
      "Pair{SubString{String},SubString{String}}[\"Z\"=>\"B\", \"P\"=>\"N\", \"X\"=>\"N\", \"E\"=>\"B\", \"L\"=>\"H\", \"M\"=>\"T\", \"V\"=>\"R\", \"N\"=>\"C\", \"T\"=>\"C\", \"Y\"=>\"B\", \"H\"=>\"B\", \"B\"=>\"C\", \"C\"=>\"K\", \"R\"=>\"K\", \"G\"=>\"K\", \"L\"=>\"G\", \"E\"=>\"R\", \"Z\"=>\"M\", \"T\"=>\"B\", \"X\"=>\"V\", \"T\"=>\"K\", \"L\"=>\"C\", \"E\"=>\"K\", \"N\"=>\"G\", \"L\"=>\"T\", \"E\"=>\"L\", \"V\"=>\"C\", \"V\"=>\"Y\", \"N\"=>\"T\", \"Y\"=>\"C\", \"M\"=>\"C\", \"X\"=>\"E\", \"H\"=>\"K\", \"E\"=>\"G\", \"N\"=>\"H\", \"P\"=>\"B\", \"Z\"=>\"T\", \"C\"=>\"G\", \"X\"=>\"T\", \"X\"=>\"K\", \"L\"=>\"M\", \"B\"=>\"K\", \"M\"=>\"G\", \"M\"=>\"H\", \"P\"=>\"M\", \"C\"=>\"R\", \"V\"=>\"B\", \"H\"=>\"G\", \"M\"=>\"R\", \"R\"=>\"G\"]\n",
      "X\n",
      "Pair{SubString{String},SubString{String}}[\"Z\"=>\"B\", \"X\"=>\"N\", \"E\"=>\"B\", \"L\"=>\"H\", \"M\"=>\"T\", \"V\"=>\"R\", \"N\"=>\"C\", \"T\"=>\"C\", \"Y\"=>\"B\", \"H\"=>\"B\", \"B\"=>\"C\", \"C\"=>\"K\", \"R\"=>\"K\", \"G\"=>\"K\", \"L\"=>\"G\", \"E\"=>\"R\", \"Z\"=>\"M\", \"T\"=>\"B\", \"X\"=>\"V\", \"T\"=>\"K\", \"L\"=>\"C\", \"E\"=>\"K\", \"N\"=>\"G\", \"L\"=>\"T\", \"E\"=>\"L\", \"V\"=>\"C\", \"V\"=>\"Y\", \"N\"=>\"T\", \"Y\"=>\"C\", \"M\"=>\"C\", \"X\"=>\"E\", \"H\"=>\"K\", \"E\"=>\"G\", \"N\"=>\"H\", \"Z\"=>\"T\", \"C\"=>\"G\", \"X\"=>\"T\", \"X\"=>\"K\", \"L\"=>\"M\", \"B\"=>\"K\", \"M\"=>\"G\", \"M\"=>\"H\", \"C\"=>\"R\", \"V\"=>\"B\", \"H\"=>\"G\", \"M\"=>\"R\", \"R\"=>\"G\"]\n",
      "E\n",
      "Pair{SubString{String},SubString{String}}[\"Z\"=>\"B\", \"E\"=>\"B\", \"L\"=>\"H\", \"M\"=>\"T\", \"V\"=>\"R\", \"N\"=>\"C\", \"T\"=>\"C\", \"Y\"=>\"B\", \"H\"=>\"B\", \"B\"=>\"C\", \"C\"=>\"K\", \"R\"=>\"K\", \"G\"=>\"K\", \"L\"=>\"G\", \"E\"=>\"R\", \"Z\"=>\"M\", \"T\"=>\"B\", \"T\"=>\"K\", \"L\"=>\"C\", \"E\"=>\"K\", \"N\"=>\"G\", \"L\"=>\"T\", \"E\"=>\"L\", \"V\"=>\"C\", \"V\"=>\"Y\", \"N\"=>\"T\", \"Y\"=>\"C\", \"M\"=>\"C\", \"H\"=>\"K\", \"E\"=>\"G\", \"N\"=>\"H\", \"Z\"=>\"T\", \"C\"=>\"G\", \"L\"=>\"M\", \"B\"=>\"K\", \"M\"=>\"G\", \"M\"=>\"H\", \"C\"=>\"R\", \"V\"=>\"B\", \"H\"=>\"G\", \"M\"=>\"R\", \"R\"=>\"G\"]\n",
      "L\n",
      "Pair{SubString{String},SubString{String}}[\"Z\"=>\"B\", \"L\"=>\"H\", \"M\"=>\"T\", \"V\"=>\"R\", \"N\"=>\"C\", \"T\"=>\"C\", \"Y\"=>\"B\", \"H\"=>\"B\", \"B\"=>\"C\", \"C\"=>\"K\", \"R\"=>\"K\", \"G\"=>\"K\", \"L\"=>\"G\", \"Z\"=>\"M\", \"T\"=>\"B\", \"T\"=>\"K\", \"L\"=>\"C\", \"N\"=>\"G\", \"L\"=>\"T\", \"V\"=>\"C\", \"V\"=>\"Y\", \"N\"=>\"T\", \"Y\"=>\"C\", \"M\"=>\"C\", \"H\"=>\"K\", \"N\"=>\"H\", \"Z\"=>\"T\", \"C\"=>\"G\", \"L\"=>\"M\", \"B\"=>\"K\", \"M\"=>\"G\", \"M\"=>\"H\", \"C\"=>\"R\", \"V\"=>\"B\", \"H\"=>\"G\", \"M\"=>\"R\", \"R\"=>\"G\"]\n",
      "N\n",
      "Pair{SubString{String},SubString{String}}[\"Z\"=>\"B\", \"M\"=>\"T\", \"V\"=>\"R\", \"N\"=>\"C\", \"T\"=>\"C\", \"Y\"=>\"B\", \"H\"=>\"B\", \"B\"=>\"C\", \"C\"=>\"K\", \"R\"=>\"K\", \"G\"=>\"K\", \"Z\"=>\"M\", \"T\"=>\"B\", \"T\"=>\"K\", \"N\"=>\"G\", \"V\"=>\"C\", \"V\"=>\"Y\", \"N\"=>\"T\", \"Y\"=>\"C\", \"M\"=>\"C\", \"H\"=>\"K\", \"N\"=>\"H\", \"Z\"=>\"T\", \"C\"=>\"G\", \"B\"=>\"K\", \"M\"=>\"G\", \"M\"=>\"H\", \"C\"=>\"R\", \"V\"=>\"B\", \"H\"=>\"G\", \"M\"=>\"R\", \"R\"=>\"G\"]\n",
      "V\n",
      "Pair{SubString{String},SubString{String}}[\"Z\"=>\"B\", \"M\"=>\"T\", \"V\"=>\"R\", \"T\"=>\"C\", \"Y\"=>\"B\", \"H\"=>\"B\", \"B\"=>\"C\", \"C\"=>\"K\", \"R\"=>\"K\", \"G\"=>\"K\", \"Z\"=>\"M\", \"T\"=>\"B\", \"T\"=>\"K\", \"V\"=>\"C\", \"V\"=>\"Y\", \"Y\"=>\"C\", \"M\"=>\"C\", \"H\"=>\"K\", \"Z\"=>\"T\", \"C\"=>\"G\", \"B\"=>\"K\", \"M\"=>\"G\", \"M\"=>\"H\", \"C\"=>\"R\", \"V\"=>\"B\", \"H\"=>\"G\", \"M\"=>\"R\", \"R\"=>\"G\"]\n",
      "Y\n",
      "Pair{SubString{String},SubString{String}}[\"Z\"=>\"B\", \"M\"=>\"T\", \"T\"=>\"C\", \"Y\"=>\"B\", \"H\"=>\"B\", \"B\"=>\"C\", \"C\"=>\"K\", \"R\"=>\"K\", \"G\"=>\"K\", \"Z\"=>\"M\", \"T\"=>\"B\", \"T\"=>\"K\", \"Y\"=>\"C\", \"M\"=>\"C\", \"H\"=>\"K\", \"Z\"=>\"T\", \"C\"=>\"G\", \"B\"=>\"K\", \"M\"=>\"G\", \"M\"=>\"H\", \"C\"=>\"R\", \"H\"=>\"G\", \"M\"=>\"R\", \"R\"=>\"G\"]\n",
      "Z\n",
      "Pair{SubString{String},SubString{String}}[\"Z\"=>\"B\", \"M\"=>\"T\", \"T\"=>\"C\", \"H\"=>\"B\", \"B\"=>\"C\", \"C\"=>\"K\", \"R\"=>\"K\", \"G\"=>\"K\", \"Z\"=>\"M\", \"T\"=>\"B\", \"T\"=>\"K\", \"M\"=>\"C\", \"H\"=>\"K\", \"Z\"=>\"T\", \"C\"=>\"G\", \"B\"=>\"K\", \"M\"=>\"G\", \"M\"=>\"H\", \"C\"=>\"R\", \"H\"=>\"G\", \"M\"=>\"R\", \"R\"=>\"G\"]\n",
      "M\n",
      "Pair{SubString{String},SubString{String}}[\"M\"=>\"T\", \"T\"=>\"C\", \"H\"=>\"B\", \"B\"=>\"C\", \"C\"=>\"K\", \"R\"=>\"K\", \"G\"=>\"K\", \"T\"=>\"B\", \"T\"=>\"K\", \"M\"=>\"C\", \"H\"=>\"K\", \"C\"=>\"G\", \"B\"=>\"K\", \"M\"=>\"G\", \"M\"=>\"H\", \"C\"=>\"R\", \"H\"=>\"G\", \"M\"=>\"R\", \"R\"=>\"G\"]\n",
      "H\n",
      "Pair{SubString{String},SubString{String}}[\"T\"=>\"C\", \"H\"=>\"B\", \"B\"=>\"C\", \"C\"=>\"K\", \"R\"=>\"K\", \"G\"=>\"K\", \"T\"=>\"B\", \"T\"=>\"K\", \"H\"=>\"K\", \"C\"=>\"G\", \"B\"=>\"K\", \"C\"=>\"R\", \"H\"=>\"G\", \"R\"=>\"G\"]\n",
      "T\n",
      "Pair{SubString{String},SubString{String}}[\"T\"=>\"C\", \"B\"=>\"C\", \"C\"=>\"K\", \"R\"=>\"K\", \"G\"=>\"K\", \"T\"=>\"B\", \"T\"=>\"K\", \"C\"=>\"G\", \"B\"=>\"K\", \"C\"=>\"R\", \"R\"=>\"G\"]\n",
      "B\n",
      "Pair{SubString{String},SubString{String}}[\"B\"=>\"C\", \"C\"=>\"K\", \"R\"=>\"K\", \"G\"=>\"K\", \"C\"=>\"G\", \"B\"=>\"K\", \"C\"=>\"R\", \"R\"=>\"G\"]\n",
      "C\n",
      "Pair{SubString{String},SubString{String}}[\"C\"=>\"K\", \"R\"=>\"K\", \"G\"=>\"K\", \"C\"=>\"G\", \"C\"=>\"R\", \"R\"=>\"G\"]\n",
      "R\n",
      "Pair{SubString{String},SubString{String}}[\"R\"=>\"K\", \"G\"=>\"K\", \"R\"=>\"G\"]\n",
      "G\n",
      "Pair{SubString{String},SubString{String}}[\"G\"=>\"K\"]\n"
     ]
    },
    {
     "data": {
      "text/plain": [
       "\"IOFSJQDUWAPXELNVYZMHTBCRGK\""
      ]
     },
     "execution_count": 6,
     "metadata": {},
     "output_type": "execute_result"
    }
   ],
   "source": [
    "while length(xx) > 0\n",
    "    allx=string.(unique(vcat([xx[1] for xx in xx],[xx[2] for xx in xx])) |> sort)\n",
    "    todo = sort(setdiff(allx, [xx[2] for xx in xx]))\n",
    "    todo1 = todo[1]\n",
    "    push!(res, todo1)\n",
    "    if length(xx) == 1\n",
    "        push!(res, xx[1][2])\n",
    "    end\n",
    "    println(todo1)\n",
    "    println(xx)\n",
    "    xx = filter(xx->xx[1] != todo1, xx)\n",
    "end\n",
    "join(res)"
   ]
  },
  {
   "cell_type": "code",
   "execution_count": 7,
   "metadata": {},
   "outputs": [
    {
     "data": {
      "text/plain": [
       "26"
      ]
     },
     "execution_count": 7,
     "metadata": {},
     "output_type": "execute_result"
    }
   ],
   "source": [
    "xx = [split(x,\" \")[2] => split(x,\" \")[8] for x in x]\n",
    "res = String[]\n",
    "seconds = 0\n",
    "secondsd = Dict{String, Int}()\n",
    "done = false\n",
    "all_letters=string.(unique(vcat([xx[1] for xx in xx],[xx[2] for xx in xx])) |> sort)\n",
    "nletters = length(all_letters)\n",
    "nworkers = 5\n",
    "seconds_to_work = 60\n",
    "doing = String[]\n",
    "nletters"
   ]
  },
  {
   "cell_type": "code",
   "execution_count": 8,
   "metadata": {},
   "outputs": [
    {
     "name": "stdout",
     "output_type": "stream",
     "text": [
      "we are in sec: 0\n",
      "doing I: will take 69 from 0\n",
      "doing O: will take 75 from 0\n",
      "doing X: will take 84 from 0\n",
      "doing Z: will take 86 from 0\n",
      "we are in sec: 1\n",
      "we are in sec: 2\n",
      "we are in sec: 3\n",
      "we are in sec: 4\n",
      "we are in sec: 5\n",
      "we are in sec: 6\n",
      "we are in sec: 7\n",
      "we are in sec: 8\n",
      "we are in sec: 9\n",
      "we are in sec: 10\n",
      "we are in sec: 11\n",
      "we are in sec: 12\n",
      "we are in sec: 13\n",
      "we are in sec: 14\n",
      "we are in sec: 15\n",
      "we are in sec: 16\n",
      "we are in sec: 17\n",
      "we are in sec: 18\n",
      "we are in sec: 19\n",
      "we are in sec: 20\n",
      "we are in sec: 21\n",
      "we are in sec: 22\n",
      "we are in sec: 23\n",
      "we are in sec: 24\n",
      "we are in sec: 25\n",
      "we are in sec: 26\n",
      "we are in sec: 27\n",
      "we are in sec: 28\n",
      "we are in sec: 29\n",
      "we are in sec: 30\n",
      "we are in sec: 31\n",
      "we are in sec: 32\n",
      "we are in sec: 33\n",
      "we are in sec: 34\n",
      "we are in sec: 35\n",
      "we are in sec: 36\n",
      "we are in sec: 37\n",
      "we are in sec: 38\n",
      "we are in sec: 39\n",
      "we are in sec: 40\n",
      "we are in sec: 41\n",
      "we are in sec: 42\n",
      "we are in sec: 43\n",
      "we are in sec: 44\n",
      "we are in sec: 45\n",
      "we are in sec: 46\n",
      "we are in sec: 47\n",
      "we are in sec: 48\n",
      "we are in sec: 49\n",
      "we are in sec: 50\n",
      "we are in sec: 51\n",
      "we are in sec: 52\n",
      "we are in sec: 53\n",
      "we are in sec: 54\n",
      "we are in sec: 55\n",
      "we are in sec: 56\n",
      "we are in sec: 57\n",
      "we are in sec: 58\n",
      "we are in sec: 59\n",
      "we are in sec: 60\n",
      "we are in sec: 61\n",
      "we are in sec: 62\n",
      "we are in sec: 63\n",
      "we are in sec: 64\n",
      "we are in sec: 65\n",
      "we are in sec: 66\n",
      "we are in sec: 67\n",
      "we are in sec: 68\n",
      "done with I: increase workers to 2 at 68\n",
      "we are in sec: 69\n",
      "we are in sec: 70\n",
      "we are in sec: 71\n",
      "we are in sec: 72\n",
      "we are in sec: 73\n",
      "we are in sec: 74\n",
      "done with O: increase workers to 3 at 74\n",
      "we are in sec: 75\n",
      "doing F: will take 66 from 75\n",
      "doing S: will take 79 from 75\n",
      "doing W: will take 83 from 75\n",
      "we are in sec: 76\n",
      "sec 76: not adding new workers\n"
     ]
    },
    {
     "ename": "UndefVarError",
     "evalue": "UndefVarError: todo not defined",
     "output_type": "error",
     "traceback": [
      "UndefVarError: todo not defined",
      "",
      "Stacktrace:",
      " [1] top-level scope at In[8]:24"
     ]
    }
   ],
   "source": [
    "while !done\n",
    "    println(\"we are in sec: $seconds\")\n",
    "    if (nworkers > 0) #&& (length(xx) > 0)\n",
    "        allx=string.(unique(vcat([xx[1] for xx in xx],[xx[2] for xx in xx])) |> sort)        \n",
    "        todo = sort(setdiff(allx, [xx[2] for xx in xx]))\n",
    "        todo = setdiff(todo, doing)\n",
    "        if length(xx) == 0 && length(todo) == 0\n",
    "            todo = setdiff(all_letters, keys(secondsd))\n",
    "        end\n",
    "        i = 0\n",
    "        while (nworkers>0) && (i+1 <= length(todo)) #&& (length(xx) > 0) \n",
    "            i = i + 1\n",
    "            todo1 = todo[i]\n",
    "            println(\"doing $todo1: will take $(Int(todo1[1])-64+seconds_to_work) from $seconds\")\n",
    "            push!(doing, todo1)\n",
    "            secondsd[todo1] = Int(todo1[1])-64+seconds_to_work\n",
    "            nworkers -= 1\n",
    "            done = true\n",
    "        end\n",
    "    else\n",
    "        println(\"sec $seconds: not adding new workers\")\n",
    "        done = true\n",
    "    end\n",
    "    secondsd, doing, todo, xx\n",
    "\n",
    "    for k in keys(secondsd)\n",
    "        secondsd[k] -= 1\n",
    "        if secondsd[k] == 0\n",
    "            nworkers += 1\n",
    "            println(\"done with $k: increase workers to $nworkers at $seconds\")                        \n",
    "            xx = filter(xx->xx[1] != k, xx)\n",
    "            done = true       \n",
    "        end\n",
    "    end\n",
    "    seconds += 1\n",
    "\n",
    "    todo, secondsd, nworkers, doing, todo, xx\n",
    "    xx, secondsd\n",
    "    done = all(values(secondsd) .<= 0) && (length(secondsd) == nletters)\n",
    "end\n",
    "seconds"
   ]
  },
  {
   "cell_type": "code",
   "execution_count": 9,
   "metadata": {},
   "outputs": [
    {
     "data": {
      "text/plain": [
       "(Dict(\"Z\"=>10,\"I\"=>-7,\"S\"=>78,\"X\"=>8,\"W\"=>82,\"F\"=>65,\"O\"=>-1), 0)"
      ]
     },
     "execution_count": 9,
     "metadata": {},
     "output_type": "execute_result"
    }
   ],
   "source": [
    "#IOFSJQDUWAPXELNVYZMHTBCRGK\n",
    "secondsd, nworkers"
   ]
  },
  {
   "cell_type": "code",
   "execution_count": 10,
   "metadata": {},
   "outputs": [
    {
     "name": "stdout",
     "output_type": "stream",
     "text": [
      "we are in sec: 76\n",
      "sec 76: not adding new workers\n"
     ]
    },
    {
     "ename": "UndefVarError",
     "evalue": "UndefVarError: todo not defined",
     "output_type": "error",
     "traceback": [
      "UndefVarError: todo not defined",
      "",
      "Stacktrace:",
      " [1] top-level scope at In[10]:23"
     ]
    }
   ],
   "source": [
    "println(\"we are in sec: $seconds\")\n",
    "if (nworkers > 0) #&& (length(xx) > 0)\n",
    "    allx=string.(unique(vcat([xx[1] for xx in xx],[xx[2] for xx in xx])) |> sort)        \n",
    "    todo = sort(setdiff(allx, [xx[2] for xx in xx]))\n",
    "    todo = setdiff(todo, doing)\n",
    "    if length(xx) == 0 && length(todo) == 0\n",
    "        todo = setdiff(all_letters, keys(secondsd))\n",
    "    end\n",
    "    i = 0\n",
    "    while (nworkers>0) && (i+1 <= length(todo)) #&& (length(xx) > 0) \n",
    "        i = i + 1\n",
    "        todo1 = todo[i]\n",
    "        println(\"doing $todo1: will take $(Int(todo1[1])-64+seconds_to_work) from $seconds\")\n",
    "        push!(doing, todo1)\n",
    "        secondsd[todo1] = Int(todo1[1])-64+seconds_to_work\n",
    "        nworkers -= 1\n",
    "        done = true\n",
    "    end\n",
    "else\n",
    "    println(\"sec $seconds: not adding new workers\")\n",
    "    done = true\n",
    "end\n",
    "secondsd, doing, todo, xx\n",
    "    \n",
    "for k in keys(secondsd)\n",
    "    secondsd[k] -= 1\n",
    "    if secondsd[k] == 0\n",
    "        nworkers += 1\n",
    "        println(\"done with $k: increase workers to $nworkers at $seconds\")                        \n",
    "        xx = filter(xx->xx[1] != k, xx)\n",
    "        done = true       \n",
    "    end\n",
    "end\n",
    "seconds += 1\n",
    "    \n",
    "todo, secondsd, nworkers, doing, todo, xx\n",
    "xx, secondsd\n",
    "done = all(values(secondsd) .<= 0)"
   ]
  }
 ],
 "metadata": {
  "kernelspec": {
   "display_name": "Julia 1.0.2",
   "language": "julia",
   "name": "julia-1.0"
  },
  "language_info": {
   "file_extension": ".jl",
   "mimetype": "application/julia",
   "name": "julia",
   "version": "1.0.2"
  }
 },
 "nbformat": 4,
 "nbformat_minor": 2
}
