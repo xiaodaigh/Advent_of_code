{
 "cells": [
  {
   "cell_type": "code",
   "execution_count": 1,
   "metadata": {},
   "outputs": [
    {
     "data": {
      "text/plain": [
       "16721-element Array{Int64,1}:\n",
       "  8\n",
       " 11\n",
       "  7\n",
       "  3\n",
       "  4\n",
       "  4\n",
       "  3\n",
       "  6\n",
       "  1\n",
       "  7\n",
       "  0\n",
       "  9\n",
       "  5\n",
       "  ⋮\n",
       "  1\n",
       "  1\n",
       "  5\n",
       "  7\n",
       "  5\n",
       "  2\n",
       "  9\n",
       "  9\n",
       "  4\n",
       "  8\n",
       "  2\n",
       "  1"
      ]
     },
     "execution_count": 1,
     "metadata": {},
     "output_type": "execute_result"
    }
   ],
   "source": [
    "x = open(\"8.txt\") do f\n",
    "    [l for l in eachline(f)]\n",
    "    end;\n",
    "x = parse.(Int,split(x[1],\" \"))"
   ]
  },
  {
   "cell_type": "code",
   "execution_count": 2,
   "metadata": {},
   "outputs": [
    {
     "data": {
      "text/plain": [
       "false"
      ]
     },
     "execution_count": 2,
     "metadata": {},
     "output_type": "execute_result"
    }
   ],
   "source": [
    "is_start_of_node = true\n",
    "upto = 1\n",
    "num_children = -1\n",
    "done = false"
   ]
  },
  {
   "cell_type": "code",
   "execution_count": 3,
   "metadata": {},
   "outputs": [
    {
     "data": {
      "text/plain": [
       "sum_meta (generic function with 1 method)"
      ]
     },
     "execution_count": 3,
     "metadata": {},
     "output_type": "execute_result"
    }
   ],
   "source": [
    "sum_meta(x, upto) = begin    \n",
    "    res = 0\n",
    "    num_children = x[upto]\n",
    "    #println(\"num children $num_children\")\n",
    "    upto += 1\n",
    "    num_meta = x[upto]\n",
    "    \n",
    "    # get the children\n",
    "    upto += 1\n",
    "    for i = 1:num_children\n",
    "        (res_add, upto) = sum_meta(x, upto)\n",
    "        #println(upto)\n",
    "        res += res_add        \n",
    "    end\n",
    "    \n",
    "    # by the end of reading the children I should start suming up meta\n",
    "    for i = 1:num_meta\n",
    "        #println(x[upto])\n",
    "        res += x[upto]\n",
    "        upto+=1\n",
    "    end\n",
    "    \n",
    "    return (res, upto)\n",
    "end"
   ]
  },
  {
   "cell_type": "code",
   "execution_count": 4,
   "metadata": {},
   "outputs": [
    {
     "data": {
      "text/plain": [
       "(42798, 16722)"
      ]
     },
     "execution_count": 4,
     "metadata": {},
     "output_type": "execute_result"
    }
   ],
   "source": [
    "sum_meta(x, 1)"
   ]
  },
  {
   "cell_type": "code",
   "execution_count": null,
   "metadata": {},
   "outputs": [],
   "source": []
  }
 ],
 "metadata": {
  "kernelspec": {
   "display_name": "Julia 1.0.2",
   "language": "julia",
   "name": "julia-1.0"
  },
  "language_info": {
   "file_extension": ".jl",
   "mimetype": "application/julia",
   "name": "julia",
   "version": "1.0.2"
  }
 },
 "nbformat": 4,
 "nbformat_minor": 2
}
