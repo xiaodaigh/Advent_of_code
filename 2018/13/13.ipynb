{
 "cells": [
  {
   "cell_type": "code",
   "execution_count": 12,
   "metadata": {},
   "outputs": [
    {
     "data": {
      "text/plain": [
       "150×150 Array{String,2}:\n",
       " \" \"  \" \"   \" \"  \" \"   \" \"  \" \"  \" \"  …  \" \"  \" \"  \" \"   \" \"  \" \"  \" \"  \" \" \n",
       " \" \"  \"/\"   \"-\"  \"-\"   \"-\"  \"-\"  \"-\"     \" \"  \" \"  \" \"   \" \"  \" \"  \" \"  \" \" \n",
       " \" \"  \"|\"   \" \"  \" \"   \" \"  \" \"  \" \"     \" \"  \" \"  \" \"   \" \"  \" \"  \" \"  \" \" \n",
       " \" \"  \"|\"   \" \"  \" \"   \"/\"  \"-\"  \"-\"     \" \"  \" \"  \" \"   \" \"  \" \"  \" \"  \" \" \n",
       " \" \"  \"|\"   \" \"  \" \"   \"|\"  \" \"  \" \"     \" \"  \" \"  \" \"   \" \"  \" \"  \" \"  \" \" \n",
       " \" \"  \"|\"   \" \"  \" \"   \"|\"  \" \"  \" \"  …  \" \"  \" \"  \" \"   \" \"  \" \"  \" \"  \" \" \n",
       " \" \"  \"|\"   \" \"  \" \"   \"|\"  \" \"  \" \"     \"-\"  \"-\"  \"\\\\\"  \" \"  \" \"  \" \"  \" \" \n",
       " \" \"  \"|\"   \" \"  \" \"   \"|\"  \" \"  \" \"     \" \"  \" \"  \"|\"   \" \"  \" \"  \" \"  \" \" \n",
       " \" \"  \"|\"   \" \"  \" \"   \"|\"  \" \"  \" \"     \" \"  \" \"  \"|\"   \" \"  \" \"  \" \"  \" \" \n",
       " \" \"  \"|\"   \" \"  \" \"   \"|\"  \" \"  \" \"     \" \"  \" \"  \"|\"   \" \"  \" \"  \" \"  \" \" \n",
       " \" \"  \"|\"   \" \"  \" \"   \"|\"  \" \"  \" \"  …  \" \"  \" \"  \"|\"   \" \"  \" \"  \" \"  \" \" \n",
       " \" \"  \"|\"   \" \"  \" \"   \"|\"  \" \"  \" \"     \" \"  \" \"  \"|\"   \" \"  \" \"  \" \"  \" \" \n",
       " \" \"  \"|\"   \" \"  \" \"   \"|\"  \" \"  \" \"     \"-\"  \"-\"  \"+\"   \"-\"  \"-\"  \"-\"  \"\\\\\"\n",
       " ⋮                          ⋮         ⋱            ⋮                        \n",
       " \" \"  \"|\"   \" \"  \"|\"   \" \"  \" \"  \" \"     \"|\"  \" \"  \" \"   \" \"  \"|\"  \" \"  \" \" \n",
       " \" \"  \"|\"   \" \"  \"|\"   \" \"  \" \"  \" \"     \"|\"  \" \"  \" \"   \" \"  \"|\"  \" \"  \" \" \n",
       " \" \"  \"|\"   \" \"  \"|\"   \" \"  \" \"  \" \"  …  \"|\"  \" \"  \" \"   \" \"  \"|\"  \" \"  \" \" \n",
       " \" \"  \"|\"   \" \"  \"|\"   \" \"  \" \"  \" \"     \"|\"  \" \"  \" \"   \" \"  \"|\"  \" \"  \" \" \n",
       " \" \"  \"|\"   \" \"  \"\\\\\"  \"-\"  \"-\"  \"-\"     \"|\"  \" \"  \" \"   \" \"  \"|\"  \" \"  \" \" \n",
       " \" \"  \"|\"   \" \"  \" \"   \" \"  \" \"  \" \"     \"|\"  \" \"  \" \"   \" \"  \"|\"  \" \"  \" \" \n",
       " \" \"  \"|\"   \" \"  \" \"   \" \"  \" \"  \" \"     \"|\"  \" \"  \" \"   \" \"  \"|\"  \" \"  \" \" \n",
       " \" \"  \"\\\\\"  \"-\"  \"<\"   \"-\"  \"-\"  \"-\"  …  \"/\"  \" \"  \" \"   \" \"  \"|\"  \" \"  \" \" \n",
       " \" \"  \" \"   \" \"  \" \"   \" \"  \" \"  \" \"     \" \"  \" \"  \" \"   \" \"  \"|\"  \" \"  \" \" \n",
       " \" \"  \" \"   \" \"  \" \"   \" \"  \" \"  \" \"     \" \"  \" \"  \" \"   \" \"  \"|\"  \" \"  \" \" \n",
       " \" \"  \" \"   \" \"  \" \"   \" \"  \" \"  \" \"     \" \"  \" \"  \" \"   \" \"  \"|\"  \" \"  \" \" \n",
       " \" \"  \" \"   \" \"  \" \"   \" \"  \" \"  \" \"     \"-\"  \"-\"  \"-\"   \"-\"  \"/\"  \" \"  \" \" "
      ]
     },
     "execution_count": 12,
     "metadata": {},
     "output_type": "execute_result"
    }
   ],
   "source": [
    "x = Array{String, 2}(undef, 150, 150)\n",
    "@enum turn l s r\n",
    "\n",
    "xx = open(\"13.txt\") do f\n",
    "    [split(l,\"\") for l in eachline(f)]\n",
    "end\n",
    "\n",
    "for i= 1:150\n",
    "    x[i,:] = xx[i]\n",
    "end\n",
    "x"
   ]
  },
  {
   "cell_type": "code",
   "execution_count": 14,
   "metadata": {},
   "outputs": [
    {
     "data": {
      "text/plain": [
       "Dict{String,Int64} with 10 entries:\n",
       "  \"|\"  => 5255\n",
       "  \"<\"  => 5\n",
       "  \"v\"  => 2\n",
       "  \" \"  => 7278\n",
       "  \"\\\\\" => 202\n",
       "  \"-\"  => 5548\n",
       "  \"/\"  => 202\n",
       "  \">\"  => 7\n",
       "  \"+\"  => 3998\n",
       "  \"^\"  => 3"
      ]
     },
     "execution_count": 14,
     "metadata": {},
     "output_type": "execute_result"
    }
   ],
   "source": [
    "using StatsBase\n",
    "countmap(x)"
   ]
  },
  {
   "cell_type": "code",
   "execution_count": 19,
   "metadata": {},
   "outputs": [],
   "source": [
    "# find the location of all cars\n",
    "cars = findall([x in [\"<\",\"v\",\"^\",\">\"] for x in x])\n"
   ]
  },
  {
   "cell_type": "code",
   "execution_count": 39,
   "metadata": {},
   "outputs": [
    {
     "ename": "ErrorException",
     "evalue": "invalid redefinition of constant car",
     "output_type": "error",
     "traceback": [
      "invalid redefinition of constant car",
      "",
      "Stacktrace:",
      " [1] top-level scope at none:0"
     ]
    }
   ],
   "source": [
    "mutable struct car\n",
    "    location::Tuple{Int,Int}\n",
    "    turn_dir::turn\n",
    "end\n",
    "\n",
    "next_dir(t::turn) = turn(mod(Int(t)+1, 3))"
   ]
  },
  {
   "cell_type": "code",
   "execution_count": 21,
   "metadata": {},
   "outputs": [
    {
     "data": {
      "text/plain": [
       "l::turn = 0"
      ]
     },
     "execution_count": 21,
     "metadata": {},
     "output_type": "execute_result"
    }
   ],
   "source": []
  },
  {
   "cell_type": "code",
   "execution_count": 31,
   "metadata": {},
   "outputs": [
    {
     "data": {
      "text/plain": [
       "l::turn = 0"
      ]
     },
     "execution_count": 31,
     "metadata": {},
     "output_type": "execute_result"
    }
   ],
   "source": []
  },
  {
   "cell_type": "code",
   "execution_count": 26,
   "metadata": {},
   "outputs": [
    {
     "ename": "ArgumentError",
     "evalue": "ArgumentError: invalid value for Enum turn: 3",
     "output_type": "error",
     "traceback": [
      "ArgumentError: invalid value for Enum turn: 3",
      "",
      "Stacktrace:",
      " [1] enum_argument_error(::Symbol, ::Int64) at .\\Enums.jl:29",
      " [2] turn(::Int64) at .\\Enums.jl:134",
      " [3] top-level scope at In[26]:1"
     ]
    }
   ],
   "source": [
    "turn(3)"
   ]
  },
  {
   "cell_type": "code",
   "execution_count": 27,
   "metadata": {},
   "outputs": [
    {
     "data": {
      "text/plain": [
       "Enum turn:\n",
       "l = 0\n",
       "s = 1\n",
       "r = 2"
      ]
     },
     "execution_count": 27,
     "metadata": {},
     "output_type": "execute_result"
    }
   ],
   "source": [
    "turn"
   ]
  },
  {
   "cell_type": "code",
   "execution_count": null,
   "metadata": {},
   "outputs": [],
   "source": []
  }
 ],
 "metadata": {
  "kernelspec": {
   "display_name": "Julia 1.0.2",
   "language": "julia",
   "name": "julia-1.0"
  },
  "language_info": {
   "file_extension": ".jl",
   "mimetype": "application/julia",
   "name": "julia",
   "version": "1.0.2"
  }
 },
 "nbformat": 4,
 "nbformat_minor": 2
}
