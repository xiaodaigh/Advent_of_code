{
 "cells": [
  {
   "cell_type": "code",
   "execution_count": 192,
   "metadata": {},
   "outputs": [
    {
     "data": {
      "text/plain": [
       "loopback (generic function with 1 method)"
      ]
     },
     "execution_count": 192,
     "metadata": {},
     "output_type": "execute_result"
    }
   ],
   "source": [
    "loopback(n, i) = n > length(i) ? mod(n, length(i)) : n"
   ]
  },
  {
   "cell_type": "code",
   "execution_count": 241,
   "metadata": {},
   "outputs": [
    {
     "data": {
      "text/plain": [
       "6-element Array{Int64,1}:\n",
       " 9\n",
       " 0\n",
       " 9\n",
       " 4\n",
       " 4\n",
       " 1"
      ]
     },
     "execution_count": 241,
     "metadata": {},
     "output_type": "execute_result"
    }
   ],
   "source": [
    "i = parse.(Int8, split(\"37\", \"\"))\n",
    "#i  = parse.(Int, split(\"074501\", \"\"))\n",
    "#i = parse.(Int, split(\"37\", \"\"))\n",
    "after = 909441\n",
    "nrecp = after+10\n",
    "checkseq = [9,0,9,4,4,1]"
   ]
  },
  {
   "cell_type": "code",
   "execution_count": 242,
   "metadata": {},
   "outputs": [
    {
     "data": {
      "text/plain": [
       "2"
      ]
     },
     "execution_count": 242,
     "metadata": {},
     "output_type": "execute_result"
    }
   ],
   "source": [
    "elf1 = 1\n",
    "elf2 = 2"
   ]
  },
  {
   "cell_type": "code",
   "execution_count": 243,
   "metadata": {},
   "outputs": [
    {
     "data": {
      "text/plain": [
       "abc (generic function with 2 methods)"
      ]
     },
     "execution_count": 243,
     "metadata": {},
     "output_type": "execute_result"
    }
   ],
   "source": [
    "function abc(elf1, elf2, i, checkseq)\n",
    "    #while length(i) < nrecp    \n",
    "    while true\n",
    "        add1, add2 = divrem(i[elf1]+i[elf2], 10)\n",
    "        if add1 > 0\n",
    "            push!(i, add1)\n",
    "            if (length(i) > 10) && all(i[end-5:end] .== checkseq)\n",
    "                return i\n",
    "            end\n",
    "        end\n",
    "        push!(i, add2)\n",
    "        if (length(i) > 10) && all(i[end-5:end] .== checkseq)\n",
    "            return i\n",
    "        end\n",
    "        elf1 += i[elf1] + 1\n",
    "        elf2 += i[elf2] + 1\n",
    "        elf1 = loopback(elf1, i)\n",
    "        elf2 = loopback(elf2, i)    \n",
    "    end\n",
    "end"
   ]
  },
  {
   "cell_type": "code",
   "execution_count": 244,
   "metadata": {},
   "outputs": [
    {
     "data": {
      "text/plain": [
       "20403326-element Array{Int8,1}:\n",
       " 3\n",
       " 7\n",
       " 1\n",
       " 0\n",
       " 1\n",
       " 0\n",
       " 1\n",
       " 2\n",
       " 4\n",
       " 5\n",
       " 1\n",
       " 5\n",
       " 8\n",
       " ⋮\n",
       " 2\n",
       " 7\n",
       " 1\n",
       " 8\n",
       " 8\n",
       " 8\n",
       " 9\n",
       " 0\n",
       " 9\n",
       " 4\n",
       " 4\n",
       " 1"
      ]
     },
     "execution_count": 244,
     "metadata": {},
     "output_type": "execute_result"
    }
   ],
   "source": [
    "abc(elf1, elf2, i, checkseq)"
   ]
  },
  {
   "cell_type": "code",
   "execution_count": 246,
   "metadata": {},
   "outputs": [
    {
     "data": {
      "text/plain": [
       "20403320"
      ]
     },
     "execution_count": 246,
     "metadata": {},
     "output_type": "execute_result"
    }
   ],
   "source": [
    "20403326 - 6"
   ]
  },
  {
   "cell_type": "code",
   "execution_count": 26,
   "metadata": {},
   "outputs": [
    {
     "data": {
      "text/plain": [
       "(1, 2)"
      ]
     },
     "execution_count": 26,
     "metadata": {},
     "output_type": "execute_result"
    }
   ],
   "source": [
    "a,b=divrem(12,10)"
   ]
  },
  {
   "cell_type": "code",
   "execution_count": 207,
   "metadata": {},
   "outputs": [
    {
     "data": {
      "text/plain": [
       "14-element Array{Int8,1}:\n",
       " 9\n",
       " 0\n",
       " 9\n",
       " 4\n",
       " 4\n",
       " 1\n",
       " 9\n",
       " 1\n",
       " 3\n",
       " 7\n",
       " 1\n",
       " 2\n",
       " 1\n",
       " 8"
      ]
     },
     "execution_count": 207,
     "metadata": {},
     "output_type": "execute_result"
    }
   ],
   "source": [
    "i"
   ]
  },
  {
   "cell_type": "code",
   "execution_count": 148,
   "metadata": {},
   "outputs": [
    {
     "data": {
      "text/plain": [
       "7-element Array{Int64,1}:\n",
       " 9\n",
       " 0\n",
       " 9\n",
       " 4\n",
       " 4\n",
       " 1\n",
       " 9"
      ]
     },
     "execution_count": 148,
     "metadata": {},
     "output_type": "execute_result"
    }
   ],
   "source": [
    "i"
   ]
  },
  {
   "cell_type": "code",
   "execution_count": null,
   "metadata": {},
   "outputs": [],
   "source": [
    "9094419"
   ]
  }
 ],
 "metadata": {
  "kernelspec": {
   "display_name": "Julia 1.0.2",
   "language": "julia",
   "name": "julia-1.0"
  },
  "language_info": {
   "file_extension": ".jl",
   "mimetype": "application/julia",
   "name": "julia",
   "version": "1.0.2"
  }
 },
 "nbformat": 4,
 "nbformat_minor": 2
}
