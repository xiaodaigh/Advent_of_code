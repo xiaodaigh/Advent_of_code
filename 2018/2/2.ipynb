{
 "cells": [
  {
   "cell_type": "code",
   "execution_count": 1,
   "metadata": {},
   "outputs": [
    {
     "data": {
      "text/plain": [
       "250-element Array{String,1}:\n",
       " \"ayitmcjvlhedbsyoqfzukjpxwt\"\n",
       " \"agirmcjvlheybsyogfzuknpxxt\"\n",
       " \"wgirmcjvlvedbsyoqfzujnpxwt\"\n",
       " \"agizmcjvlhedbsyoqfzuenlxwt\"\n",
       " \"aryrmcjvlheebsyoqfzuknpxwt\"\n",
       " \"agirmcjelhedbsyoqfzukosxwt\"\n",
       " \"azirmcjvlhedbsooqfzuknpxvt\"\n",
       " \"agirmcjvffedbsyoqfzudnpxwt\"\n",
       " \"agilmcjvlhedbsyrqfzuknpxrt\"\n",
       " \"agirmcjvlhndbsyoofzukcpxwt\"\n",
       " \"awirmcjvlhedbsyoqfzuknpxlz\"\n",
       " \"aghrmcjmlhewbsyoqfzuknpxwt\"\n",
       " \"apirmcjvlmedbsyoqfzcknpxwt\"\n",
       " ⋮                           \n",
       " \"agirmcjvehedblyoqwzuknpxwt\"\n",
       " \"agirmcpvlhwdbsyoafzuknpxwt\"\n",
       " \"agirmcjvlhtdbsyoqfzumnpxtt\"\n",
       " \"agirmcjalhegtsyoqfzuknpxwt\"\n",
       " \"agirdijvlhedbsyoqfzutnpxwt\"\n",
       " \"agirmckvlhgdbsyovfzuknpxwt\"\n",
       " \"qgmrmcjvlkedbsyoqfzuknpxwt\"\n",
       " \"agirjcjvlhodbsyoqfzuanpxwt\"\n",
       " \"ajirmcjvlhedbpyoqftuknpxwt\"\n",
       " \"cgirmcjvlhedbsyoqfiuonpxwt\"\n",
       " \"ayirmcjvlhedbsyaqfzuknwxwt\"\n",
       " \"agirmcjvlhedbdyoqbzwknpxwt\""
      ]
     },
     "execution_count": 1,
     "metadata": {},
     "output_type": "execute_result"
    }
   ],
   "source": [
    "x = open(\"2.txt\") do f\n",
    "    [l for l in eachline(f)]\n",
    "end"
   ]
  },
  {
   "cell_type": "code",
   "execution_count": 6,
   "metadata": {},
   "outputs": [
    {
     "data": {
      "text/plain": [
       "5434"
      ]
     },
     "execution_count": 6,
     "metadata": {},
     "output_type": "execute_result"
    }
   ],
   "source": [
    "# part 1\n",
    "using StatsBase\n",
    "twos = 0\n",
    "threes = 0\n",
    "for cm in [countmap(split(x,\"\")) for x in x]\n",
    "    v = values(cm)\n",
    "    twos += any(v .== 2)\n",
    "    threes += any(v .== 3)\n",
    "end\n",
    "twos*threes"
   ]
  },
  {
   "cell_type": "code",
   "execution_count": 13,
   "metadata": {},
   "outputs": [
    {
     "data": {
      "text/plain": [
       "2-element Array{Tuple{Array{SubString{String},1},Array{SubString{String},1},Int64},1}:\n",
       " ([\"a\", \"g\", \"i\", \"t\", \"m\", \"d\", \"j\", \"v\", \"l\", \"h\"  …  \"q\", \"f\", \"z\", \"u\", \"k\", \"n\", \"p\", \"j\", \"w\", \"t\"], [\"a\", \"g\", \"i\", \"r\", \"m\", \"d\", \"j\", \"v\", \"l\", \"h\"  …  \"q\", \"f\", \"z\", \"u\", \"k\", \"n\", \"p\", \"j\", \"w\", \"t\"], 1)\n",
       " ([\"a\", \"g\", \"i\", \"r\", \"m\", \"d\", \"j\", \"v\", \"l\", \"h\"  …  \"q\", \"f\", \"z\", \"u\", \"k\", \"n\", \"p\", \"j\", \"w\", \"t\"], [\"a\", \"g\", \"i\", \"t\", \"m\", \"d\", \"j\", \"v\", \"l\", \"h\"  …  \"q\", \"f\", \"z\", \"u\", \"k\", \"n\", \"p\", \"j\", \"w\", \"t\"], 1)"
      ]
     },
     "execution_count": 13,
     "metadata": {},
     "output_type": "execute_result"
    }
   ],
   "source": [
    "# part 2\n",
    "y = [split(x,\"\") for x in x]\n",
    "using Base.Iterators\n",
    "dist(x1, x2) = sum(x1 .!= x2)\n",
    "res = filter(x->x[3] == 1, [(x1, x2, dist(x1, x2)) for (x1,x2) in product(y, y)])"
   ]
  },
  {
   "cell_type": "code",
   "execution_count": 25,
   "metadata": {},
   "outputs": [
    {
     "data": {
      "text/plain": [
       "26-element Array{SubString{String},1}:\n",
       " \"a\"\n",
       " \"g\"\n",
       " \"i\"\n",
       " \"r\"\n",
       " \"m\"\n",
       " \"d\"\n",
       " \"j\"\n",
       " \"v\"\n",
       " \"l\"\n",
       " \"h\"\n",
       " \"e\"\n",
       " \"d\"\n",
       " \"p\"\n",
       " \"s\"\n",
       " \"y\"\n",
       " \"o\"\n",
       " \"q\"\n",
       " \"f\"\n",
       " \"z\"\n",
       " \"u\"\n",
       " \"k\"\n",
       " \"n\"\n",
       " \"p\"\n",
       " \"j\"\n",
       " \"w\"\n",
       " \"t\""
      ]
     },
     "execution_count": 25,
     "metadata": {},
     "output_type": "execute_result"
    }
   ],
   "source": [
    "res1 = res[1][1]\n",
    "res2 = res[1][2]"
   ]
  },
  {
   "cell_type": "code",
   "execution_count": 28,
   "metadata": {},
   "outputs": [
    {
     "data": {
      "text/plain": [
       "\"agimdjvlhedpsyoqfzuknpjwt\""
      ]
     },
     "execution_count": 28,
     "metadata": {},
     "output_type": "execute_result"
    }
   ],
   "source": [
    "join(res1[res1 .== res2])"
   ]
  },
  {
   "cell_type": "code",
   "execution_count": null,
   "metadata": {},
   "outputs": [],
   "source": []
  }
 ],
 "metadata": {
  "kernelspec": {
   "display_name": "Julia 1.0.2",
   "language": "julia",
   "name": "julia-1.0"
  },
  "language_info": {
   "file_extension": ".jl",
   "mimetype": "application/julia",
   "name": "julia",
   "version": "1.0.2"
  }
 },
 "nbformat": 4,
 "nbformat_minor": 2
}
