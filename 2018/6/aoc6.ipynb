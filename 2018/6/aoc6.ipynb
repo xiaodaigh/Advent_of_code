{
 "cells": [
  {
   "cell_type": "code",
   "execution_count": 22,
   "metadata": {},
   "outputs": [],
   "source": [
    "x = open(\"aoc6.txt\") do f\n",
    "    [x for x in eachline(f)]\n",
    "    end;"
   ]
  },
  {
   "cell_type": "code",
   "execution_count": 23,
   "metadata": {},
   "outputs": [
    {
     "data": {
      "text/plain": [
       "50-element Array{Tuple{Int64,Int64},1}:\n",
       " (135, 127)\n",
       " (251, 77) \n",
       " (136, 244)\n",
       " (123, 169)\n",
       " (253, 257)\n",
       " (359, 309)\n",
       " (100, 247)\n",
       " (191, 323)\n",
       " (129, 323)\n",
       " (76, 284) \n",
       " (69, 56)  \n",
       " (229, 266)\n",
       " (74, 216) \n",
       " ⋮         \n",
       " (103, 274)\n",
       " (357, 144)\n",
       " (314, 118)\n",
       " (67, 196) \n",
       " (156, 265)\n",
       " (254, 357)\n",
       " (218, 271)\n",
       " (118, 94) \n",
       " (300, 189)\n",
       " (290, 356)\n",
       " (354, 91) \n",
       " (209, 334)"
      ]
     },
     "execution_count": 23,
     "metadata": {},
     "output_type": "execute_result"
    }
   ],
   "source": [
    "x1=[tuple(parse.(Int, split(x,\",\"))...) for x in x]"
   ]
  },
  {
   "cell_type": "code",
   "execution_count": 24,
   "metadata": {},
   "outputs": [
    {
     "data": {
      "text/plain": [
       "359"
      ]
     },
     "execution_count": 24,
     "metadata": {},
     "output_type": "execute_result"
    }
   ],
   "source": [
    "rlim = maximum(x->x[1], x1)"
   ]
  },
  {
   "cell_type": "code",
   "execution_count": 25,
   "metadata": {},
   "outputs": [
    {
     "data": {
      "text/plain": [
       "360"
      ]
     },
     "execution_count": 25,
     "metadata": {},
     "output_type": "execute_result"
    }
   ],
   "source": [
    "clim = maximum(x->x[2], x1)\n",
    "rclim = max(rlim+1, clim+1)"
   ]
  },
  {
   "cell_type": "code",
   "execution_count": 26,
   "metadata": {},
   "outputs": [
    {
     "data": {
      "text/plain": [
       "60"
      ]
     },
     "execution_count": 26,
     "metadata": {},
     "output_type": "execute_result"
    }
   ],
   "source": [
    "minimum(x->x[1], x1)"
   ]
  },
  {
   "cell_type": "code",
   "execution_count": 27,
   "metadata": {},
   "outputs": [
    {
     "data": {
      "text/plain": [
       "51"
      ]
     },
     "execution_count": 27,
     "metadata": {},
     "output_type": "execute_result"
    }
   ],
   "source": [
    "minimum(x->x[2], x1)"
   ]
  },
  {
   "cell_type": "code",
   "execution_count": 28,
   "metadata": {},
   "outputs": [],
   "source": [
    "# create a distance to every pont there\n",
    "grid = zeros(Int, rclim,rclim);\n",
    "grid .= -1;"
   ]
  },
  {
   "cell_type": "code",
   "execution_count": 29,
   "metadata": {},
   "outputs": [
    {
     "data": {
      "text/plain": [
       "dist2pt! (generic function with 1 method)"
      ]
     },
     "execution_count": 29,
     "metadata": {},
     "output_type": "execute_result"
    }
   ],
   "source": [
    "function dist2pt!(grid,r,c,x1)\n",
    "    mandist = [abs(r-1-x1[2]) + abs(c-1-x1[1]) for x1 in x1]\n",
    "    minmandist = minimum(mandist)\n",
    "    res = findall(mandist .== minmandist)\n",
    "    #println(x1[res])\n",
    "    if length(res) == 1\n",
    "      grid[r,c] = res[1][1]\n",
    "    end\n",
    "    grid\n",
    "end"
   ]
  },
  {
   "cell_type": "code",
   "execution_count": 176,
   "metadata": {},
   "outputs": [],
   "source": [
    "for r in 1:rclim\n",
    "    for c in 1:rclim\n",
    "        grid = dist2pt!(grid, r,c, x1)\n",
    "    end\n",
    "end"
   ]
  },
  {
   "cell_type": "code",
   "execution_count": 30,
   "metadata": {},
   "outputs": [
    {
     "data": {
      "text/plain": [
       "360×360 Array{Int64,2}:\n",
       " 0  0  0  0  0  0  0  0  0  0  0  0  0  …  0  0  0  0  0  0  0  0  0  0  0  0\n",
       " 0  0  0  0  0  0  0  0  0  0  0  0  0     0  0  0  0  0  0  0  0  0  0  0  0\n",
       " 0  0  0  0  0  0  0  0  0  0  0  0  0     0  0  0  0  0  0  0  0  0  0  0  0\n",
       " 0  0  0  0  0  0  0  0  0  0  0  0  0     0  0  0  0  0  0  0  0  0  0  0  0\n",
       " 0  0  0  0  0  0  0  0  0  0  0  0  0     0  0  0  0  0  0  0  0  0  0  0  0\n",
       " 0  0  0  0  0  0  0  0  0  0  0  0  0  …  0  0  0  0  0  0  0  0  0  0  0  0\n",
       " 0  0  0  0  0  0  0  0  0  0  0  0  0     0  0  0  0  0  0  0  0  0  0  0  0\n",
       " 0  0  0  0  0  0  0  0  0  0  0  0  0     0  0  0  0  0  0  0  0  0  0  0  0\n",
       " 0  0  0  0  0  0  0  0  0  0  0  0  0     0  0  0  0  0  0  0  0  0  0  0  0\n",
       " 0  0  0  0  0  0  0  0  0  0  0  0  0     0  0  0  0  0  0  0  0  0  0  0  0\n",
       " 0  0  0  0  0  0  0  0  0  0  0  0  0  …  0  0  0  0  0  0  0  0  0  0  0  0\n",
       " 0  0  0  0  0  0  0  0  0  0  0  0  0     0  0  0  0  0  0  0  0  0  0  0  0\n",
       " 0  0  0  0  0  0  0  0  0  0  0  0  0     0  0  0  0  0  0  0  0  0  0  0  0\n",
       " ⋮              ⋮              ⋮        ⋱        ⋮              ⋮            \n",
       " 0  0  0  0  0  0  0  0  0  0  0  0  0     0  0  0  0  0  0  0  0  0  0  0  0\n",
       " 0  0  0  0  0  0  0  0  0  0  0  0  0     0  0  0  0  0  0  0  0  0  0  0  0\n",
       " 0  0  0  0  0  0  0  0  0  0  0  0  0  …  0  0  0  0  0  0  0  0  0  0  0  0\n",
       " 0  0  0  0  0  0  0  0  0  0  0  0  0     0  0  0  0  0  0  0  0  0  0  0  0\n",
       " 0  0  0  0  0  0  0  0  0  0  0  0  0     0  0  0  0  0  0  0  0  0  0  0  0\n",
       " 0  0  0  0  0  0  0  0  0  0  0  0  0     0  0  0  0  0  0  0  0  0  0  0  0\n",
       " 0  0  0  0  0  0  0  0  0  0  0  0  0     0  0  0  0  0  0  0  0  0  0  0  0\n",
       " 0  0  0  0  0  0  0  0  0  0  0  0  0  …  0  0  0  0  0  0  0  0  0  0  0  0\n",
       " 0  0  0  0  0  0  0  0  0  0  0  0  0     0  0  0  0  0  0  0  0  0  0  0  0\n",
       " 0  0  0  0  0  0  0  0  0  0  0  0  0     0  0  0  0  0  0  0  0  0  0  0  0\n",
       " 0  0  0  0  0  0  0  0  0  0  0  0  0     0  0  0  0  0  0  0  0  0  0  0  0\n",
       " 0  0  0  0  0  0  0  0  0  0  0  0  0     0  0  0  0  0  0  0  0  0  0  0  0"
      ]
     },
     "execution_count": 30,
     "metadata": {},
     "output_type": "execute_result"
    }
   ],
   "source": [
    "grid = Array{Int}(undef, rclim, rclim)\n",
    "grid .= 0"
   ]
  },
  {
   "cell_type": "code",
   "execution_count": 31,
   "metadata": {},
   "outputs": [
    {
     "data": {
      "text/plain": [
       "dist2pt2! (generic function with 1 method)"
      ]
     },
     "execution_count": 31,
     "metadata": {},
     "output_type": "execute_result"
    }
   ],
   "source": [
    "function dist2pt2!(grid,r,c,x1)\n",
    "    mandist = [abs(r-1-x1[2]) + abs(c-1-x1[1]) for x1 in x1]\n",
    "    grid[r,c] = sum(mandist)\n",
    "    grid\n",
    "end"
   ]
  },
  {
   "cell_type": "code",
   "execution_count": 32,
   "metadata": {},
   "outputs": [],
   "source": [
    "for r in 1:rclim\n",
    "    for c in 1:rclim\n",
    "        grid = dist2pt2!(grid, r,c, x1)\n",
    "    end\n",
    "end"
   ]
  },
  {
   "cell_type": "code",
   "execution_count": 33,
   "metadata": {},
   "outputs": [
    {
     "data": {
      "text/plain": [
       "38670"
      ]
     },
     "execution_count": 33,
     "metadata": {},
     "output_type": "execute_result"
    }
   ],
   "source": [
    "sum(grid .< 10000)"
   ]
  },
  {
   "cell_type": "code",
   "execution_count": 21,
   "metadata": {},
   "outputs": [
    {
     "data": {
      "text/plain": [
       "10×10 Array{Int64,2}:\n",
       " 54  48  46  44  44  44  46  48  50  56\n",
       " 48  42  40  38  38  38  40  42  44  50\n",
       " 44  38  36  34  34  34  36  38  40  46\n",
       " 40  34  32  30  30  30  32  34  36  42\n",
       " 38  32  30  28  28  28  30  32  34  40\n",
       " 38  32  30  28  28  28  30  32  34  40\n",
       " 40  34  32  30  30  30  32  34  36  42\n",
       " 44  38  36  34  34  34  36  38  40  46\n",
       " 48  42  40  38  38  38  40  42  44  50\n",
       " 52  46  44  42  42  42  44  46  48  54"
      ]
     },
     "execution_count": 21,
     "metadata": {},
     "output_type": "execute_result"
    }
   ],
   "source": [
    "grid"
   ]
  },
  {
   "cell_type": "code",
   "execution_count": 178,
   "metadata": {},
   "outputs": [
    {
     "data": {
      "text/plain": [
       "28-element Array{Int64,1}:\n",
       "  3\n",
       "  4\n",
       "  5\n",
       "  8\n",
       "  9\n",
       " 12\n",
       " 14\n",
       " 15\n",
       " 16\n",
       " 17\n",
       " 18\n",
       " 22\n",
       " 23\n",
       "  ⋮\n",
       " 29\n",
       " 30\n",
       " 31\n",
       " 33\n",
       " 36\n",
       " 37\n",
       " 38\n",
       " 39\n",
       " 41\n",
       " 43\n",
       " 45\n",
       " 47"
      ]
     },
     "execution_count": 178,
     "metadata": {},
     "output_type": "execute_result"
    }
   ],
   "source": [
    "okelems=setdiff(1:length(x1), setdiff(vcat(\n",
    "    grid[1,:], \n",
    "    grid[end,:],\n",
    "    grid[:,1],\n",
    "            grid[:,end]) |> unique,-1))"
   ]
  },
  {
   "cell_type": "code",
   "execution_count": 179,
   "metadata": {},
   "outputs": [
    {
     "data": {
      "text/plain": [
       "28-element Array{Tuple{Int64,Int64},1}:\n",
       " (37, 286) \n",
       " (23, 352) \n",
       " (4, 378)  \n",
       " (8, 502)  \n",
       " (29, 831) \n",
       " (17, 927) \n",
       " (22, 1104)\n",
       " (12, 1126)\n",
       " (36, 1159)\n",
       " (16, 1192)\n",
       " (24, 1212)\n",
       " (41, 1245)\n",
       " (31, 1346)\n",
       " ⋮         \n",
       " (38, 2065)\n",
       " (30, 2095)\n",
       " (15, 2218)\n",
       " (43, 2226)\n",
       " (25, 2322)\n",
       " (45, 2580)\n",
       " (5, 2896) \n",
       " (26, 2944)\n",
       " (3, 3145) \n",
       " (33, 3705)\n",
       " (14, 5794)\n",
       " (47, 5975)"
      ]
     },
     "execution_count": 179,
     "metadata": {},
     "output_type": "execute_result"
    }
   ],
   "source": [
    "using StatsBase\n",
    "okcnt = countmap(vec(grid))\n",
    "\n",
    "sort([(oke,okcnt[oke]) for oke in okelems], by =x->x[2])"
   ]
  },
  {
   "cell_type": "code",
   "execution_count": 167,
   "metadata": {},
   "outputs": [
    {
     "data": {
      "text/plain": [
       "6-element Array{Int64,1}:\n",
       "  5\n",
       "  2\n",
       " 10\n",
       "  4\n",
       "  5\n",
       " 12"
      ]
     },
     "execution_count": 167,
     "metadata": {},
     "output_type": "execute_result"
    }
   ],
   "source": [
    "mandist = [abs(r-1-x1[1]) + abs(c-1-x1[2]) for x1 in x1]"
   ]
  },
  {
   "cell_type": "code",
   "execution_count": 121,
   "metadata": {},
   "outputs": [
    {
     "data": {
      "text/plain": [
       "6-element Array{Tuple{Int64,Int64},1}:\n",
       " (1, 1)\n",
       " (1, 6)\n",
       " (8, 3)\n",
       " (3, 4)\n",
       " (5, 5)\n",
       " (8, 9)"
      ]
     },
     "execution_count": 121,
     "metadata": {},
     "output_type": "execute_result"
    }
   ],
   "source": [
    "    minmandist = minimum(mandist)\n",
    "x1"
   ]
  },
  {
   "cell_type": "code",
   "execution_count": 114,
   "metadata": {},
   "outputs": [
    {
     "data": {
      "text/plain": [
       "9×10 Array{Int64,2}:\n",
       "  1   1  1  1  -1   2   2   2   2   2\n",
       "  1   1  1  1  -1   2   2   2   2   2\n",
       "  1   1  1  4   4  -1   2   2   2   2\n",
       "  1   1  4  4   4   4  -1  -1  -1  -1\n",
       "  1   1  4  4   4   5   5   5   5   6\n",
       " -1  -1  5  5   5   5   5   5   5   6\n",
       "  3   3  3  3   5   5   5   5   6   6\n",
       "  3   3  3  3   3   5   5   6   6   6\n",
       "  3   3  3  3   3   3  -1   6   6   6"
      ]
     },
     "execution_count": 114,
     "metadata": {},
     "output_type": "execute_result"
    }
   ],
   "source": [
    "    res = findall(mandist .== minmandist)\n",
    "    #println(x1[res])\n",
    "    if length(res) == 1\n",
    "      grid[r,c] = res[1][1]\n",
    "    end\n",
    "    grid"
   ]
  },
  {
   "cell_type": "code",
   "execution_count": 122,
   "metadata": {},
   "outputs": [
    {
     "data": {
      "text/plain": [
       "9×10 Array{Int64,2}:\n",
       "  1   1  1  1  -1   2   2   2   2   2\n",
       "  1   1  1  1  -1   2   2   2   2   2\n",
       "  1   1  1  4   4  -1   2   2   2   2\n",
       "  1   1  4  4   4   4  -1  -1  -1  -1\n",
       "  1   1  4  4   4   5   5   5   5   6\n",
       " -1  -1  5  5   5   5   5   5   5   6\n",
       "  3   3  3  3   5   5   5   5   6   6\n",
       "  3   3  3  3   3   5   5   6   6   6\n",
       "  3   3  3  3   3   3  -1   6   6   6"
      ]
     },
     "execution_count": 122,
     "metadata": {},
     "output_type": "execute_result"
    }
   ],
   "source": [
    "grid"
   ]
  },
  {
   "cell_type": "code",
   "execution_count": null,
   "metadata": {},
   "outputs": [],
   "source": []
  }
 ],
 "metadata": {
  "kernelspec": {
   "display_name": "Julia 1.0.2",
   "language": "julia",
   "name": "julia-1.0"
  },
  "language_info": {
   "file_extension": ".jl",
   "mimetype": "application/julia",
   "name": "julia",
   "version": "1.0.2"
  }
 },
 "nbformat": 4,
 "nbformat_minor": 2
}
